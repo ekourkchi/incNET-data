{
 "cells": [
  {
   "cell_type": "code",
   "execution_count": 3,
   "metadata": {
    "id": "VsCNiJ1YiFgw"
   },
   "outputs": [],
   "source": [
    "import sys\n",
    "import os\n",
    "import subprocess\n",
    "from math import *\n",
    "import numpy as np\n",
    "from datetime import *\n",
    "from pylab import *\n",
    "import matplotlib as mpl\n",
    "from matplotlib.widgets import Slider, Button, RadioButtons\n",
    "import matplotlib.pyplot as plt\n",
    "from astropy.table import Table, Column \n",
    "from mpl_toolkits.axes_grid1 import make_axes_locatable\n",
    "import matplotlib.patches as patches\n",
    "import scipy.misc as scimisc\n",
    "import random\n",
    "from datetime import datetime\n",
    "import json\n",
    "\n",
    "# from google.colab import drive\n",
    "# drive.mount('/content/drive')"
   ]
  },
  {
   "cell_type": "code",
   "execution_count": 4,
   "metadata": {
    "id": "aE1MlQUynxP-"
   },
   "outputs": [],
   "source": [
    "# !pip install imgaug\n",
    "\n",
    "import imageio\n",
    "import imgaug as ia\n",
    "import imgaug.augmenters as iaa\n",
    "import numpy as np\n",
    "import pandas as pd\n",
    "import matplotlib.pyplot as plt\n",
    "import matplotlib.patches as patches\n",
    "import matplotlib\n"
   ]
  },
  {
   "cell_type": "code",
   "execution_count": 5,
   "metadata": {
    "id": "auBYbdadplip"
   },
   "outputs": [],
   "source": [
    "import numpy as np\n",
    "import imgaug as ia\n",
    "import imgaug.augmenters as iaa\n",
    "\n",
    "\n",
    "ia.seed(100)\n",
    "\n",
    "seq = iaa.Sequential([\n",
    "\n",
    "    iaa.Sometimes(0.5, iaa.GaussianBlur(sigma=(0, 0.1))),\n",
    "    iaa.GammaContrast(gamma=(0.97,1.03)),\n",
    "    iaa.AdditiveGaussianNoise(loc=0, scale=(0.0, 3), per_channel=0.5),\n",
    "    iaa.Add((-5, 5), per_channel=0.5),\n",
    "    iaa.Multiply((0.8, 1.2), per_channel=0.5),\n",
    "    iaa.Invert(0.05, per_channel=True),\n",
    "    iaa.Sometimes(0.1, iaa.Grayscale(alpha=(0.0, 1.0))),\n",
    "    iaa.Sometimes(0.50, iaa.Grayscale(alpha=1.)),\n",
    "    iaa.Affine(\n",
    "        rotate=(0, 359),\n",
    "        scale={\"x\": (0.8, 1.2), \"y\": (0.8, 1.2)},\n",
    "        translate_percent={\"x\": (-0.15, 0.15), \"y\": (-0.15, 0.15)})\n",
    "    ], random_order=True)\n",
    "\n",
    "\n",
    "seqGray = iaa.Sequential([\n",
    "\n",
    "    iaa.Sometimes(0.5, iaa.GaussianBlur(sigma=(0, 0.1))),\n",
    "    iaa.GammaContrast(gamma=(0.97,1.03)),\n",
    "    iaa.AdditiveGaussianNoise(loc=0, scale=(0.0, 3), per_channel=0.5),\n",
    "    iaa.Add((-5, 5), per_channel=0.5),\n",
    "    iaa.Invert(0.5, per_channel=False),\n",
    "    iaa.Multiply((0.8, 1.2), per_channel=0.5),\n",
    "    iaa.Affine(\n",
    "        rotate=(0, 359),\n",
    "        scale={\"x\": (0.8, 1.2), \"y\": (0.8, 1.2)},\n",
    "        translate_percent={\"x\": (-0.15, 0.15), \"y\": (-0.15, 0.15)})\n",
    "    ], random_order=True)"
   ]
  },
  {
   "cell_type": "code",
   "execution_count": null,
   "metadata": {
    "id": "PezjoGM10tM-"
   },
   "outputs": [],
   "source": [
    "data = np.load('./data_128x128_RGB.npz')\n",
    "images_ = data['images'].astype(np.uint8)\n",
    "labels_ = data['labels'] \n",
    "data.close() \n",
    "del data"
   ]
  },
  {
   "cell_type": "code",
   "execution_count": 5,
   "metadata": {
    "id": "9dBhAK8-0_Mx"
   },
   "outputs": [],
   "source": [
    "from sklearn.model_selection import train_test_split\n",
    "\n",
    "ix, = np.where(labels_[1]>45)\n",
    "\n",
    "images_c = images_[ix]\n",
    "labels_c = labels_[1][ix]\n",
    "pgcIDs_c = labels_[0][ix]\n",
    "\n",
    "images_train, images_test, labels_train, labels_test, pgcIDs_train,  pgcIDs_test = train_test_split(images_c, labels_c, pgcIDs_c, test_size=0.40)\n",
    "\n",
    "notUnique = np.isin(pgcIDs_test, pgcIDs_train)\n",
    "Unique = np.logical_not(notUnique)\n",
    "\n",
    "images_train_RGB = np.concatenate((images_train, images_test[notUnique]))\n",
    "labels_train_RGB  = np.concatenate((labels_train, labels_test[notUnique]))\n",
    "pgcIDs_train_RGB = np.concatenate((pgcIDs_train, pgcIDs_test[notUnique]))\n",
    "\n",
    "images_test_RGB = images_test[Unique]\n",
    "labels_test_RGB = labels_test[Unique]\n",
    "pgcIDs_test_RGB = pgcIDs_test[Unique]\n",
    "\n",
    "del images_\n",
    "del labels_\n",
    "\n",
    "del images_c\n",
    "del labels_c\n",
    "del pgcIDs_c"
   ]
  },
  {
   "cell_type": "code",
   "execution_count": 6,
   "metadata": {
    "id": "u6NgTBm4W0sI"
   },
   "outputs": [],
   "source": [
    "data = np.load('./data_128x128_g.npz')\n",
    "images_ = data['images'].astype(np.uint8)\n",
    "labels_ = data['labels'] \n",
    "data.close() \n",
    "del data\n",
    "\n",
    "pgcIDs_ = labels_[0]\n",
    "labels_ = labels_[1]\n",
    "\n",
    "inTrain = np.isin(pgcIDs_, pgcIDs_train_RGB)\n",
    "inTest = np.isin(pgcIDs_, pgcIDs_test_RGB)\n",
    "\n",
    "images_train_gray = images_[inTrain]\n",
    "labels_train_gray = labels_[inTrain]\n",
    "pgcIDs_train_gray = pgcIDs_[inTrain]\n",
    "\n",
    "images_test_gray = images_[inTest]\n",
    "labels_test_gray = labels_[inTest]\n",
    "pgcIDs_test_gray = pgcIDs_[inTest]\n",
    "\n",
    "\n",
    "del pgcIDs_\n",
    "del labels_\n",
    "del images_"
   ]
  },
  {
   "cell_type": "code",
   "execution_count": 7,
   "metadata": {
    "id": "xOCNoU_XLQb5"
   },
   "outputs": [],
   "source": [
    "data = np.load('./data_128x128_r.npz')\n",
    "images_ = data['images'].astype(np.uint8)\n",
    "labels_ = data['labels'] \n",
    "data.close() \n",
    "del data\n",
    "\n",
    "pgcIDs_ = labels_[0]\n",
    "labels_ = labels_[1]\n",
    "\n",
    "inTrain = np.isin(pgcIDs_, pgcIDs_train_RGB)\n",
    "inTest = np.isin(pgcIDs_, pgcIDs_test_RGB)\n",
    "\n",
    "images_train_gray = np.concatenate((images_train_gray, images_[inTrain]))\n",
    "labels_train_gray = np.concatenate((labels_train_gray, labels_[inTrain]))\n",
    "pgcIDs_train_gray = np.concatenate((pgcIDs_train_gray, pgcIDs_[inTrain]))\n",
    "\n",
    "images_test_gray = np.concatenate((images_test_gray, images_[inTest]))\n",
    "labels_test_gray = np.concatenate((labels_test_gray, labels_[inTest]))\n",
    "pgcIDs_test_gray = np.concatenate((pgcIDs_test_gray, pgcIDs_[inTest]))\n",
    "\n",
    "\n",
    "del pgcIDs_\n",
    "del labels_\n",
    "del images_"
   ]
  },
  {
   "cell_type": "code",
   "execution_count": 9,
   "metadata": {
    "id": "NinwybnPObg_"
   },
   "outputs": [],
   "source": [
    "data = np.load('./data_128x128_i.npz')\n",
    "images_ = data['images'].astype(np.uint8)\n",
    "labels_ = data['labels'] \n",
    "data.close() \n",
    "del data\n",
    "\n",
    "pgcIDs_ = labels_[0]\n",
    "labels_ = labels_[1]\n",
    "\n",
    "inTrain = np.isin(pgcIDs_, pgcIDs_train_RGB)\n",
    "inTest = np.isin(pgcIDs_, pgcIDs_test_RGB)\n",
    "\n",
    "images_train_gray = np.concatenate((images_train_gray, images_[inTrain]))\n",
    "labels_train_gray = np.concatenate((labels_train_gray, labels_[inTrain]))\n",
    "pgcIDs_train_gray = np.concatenate((pgcIDs_train_gray, pgcIDs_[inTrain]))\n",
    "\n",
    "images_test_gray = np.concatenate((images_test_gray, images_[inTest]))\n",
    "labels_test_gray = np.concatenate((labels_test_gray, labels_[inTest]))\n",
    "pgcIDs_test_gray = np.concatenate((pgcIDs_test_gray, pgcIDs_[inTest]))\n",
    "\n",
    "del pgcIDs_\n",
    "del labels_\n",
    "del images_"
   ]
  },
  {
   "cell_type": "code",
   "execution_count": 11,
   "metadata": {},
   "outputs": [
    {
     "data": {
      "text/plain": [
       "(3384, 129060)"
      ]
     },
     "execution_count": 11,
     "metadata": {},
     "output_type": "execute_result"
    }
   ],
   "source": [
    "N_testGray = len(pgcIDs_test_gray)\n",
    "N_trainGray = len(pgcIDs_train_gray)\n",
    "\n",
    "N_testGray, N_trainGray"
   ]
  },
  {
   "cell_type": "code",
   "execution_count": 13,
   "metadata": {},
   "outputs": [],
   "source": [
    "indx = np.arange(N_testGray)\n",
    "indx = esn_shuffle(indx, seed=0)\n",
    "\n",
    "images_test_gray = images_test_gray[indx]\n",
    "labels_test_gray = labels_test_gray[indx]\n",
    "pgcIDs_test_gray = pgcIDs_test_gray[indx]"
   ]
  },
  {
   "cell_type": "code",
   "execution_count": 14,
   "metadata": {},
   "outputs": [],
   "source": [
    "indx = np.arange(N_trainGray)\n",
    "indx = esn_shuffle(indx, seed=0)\n",
    "\n",
    "images_train_gray = images_train_gray[indx]\n",
    "labels_train_gray = images_train_gray[indx]\n",
    "pgcIDs_train_gray = images_train_gray[indx]"
   ]
  },
  {
   "cell_type": "code",
   "execution_count": 15,
   "metadata": {
    "id": "VfWdcRu2Obqh"
   },
   "outputs": [],
   "source": [
    "np.savez_compressed('./Gray_128x128_train_000.npz', \n",
    "                    images=images_train_gray, \n",
    "                    labels=labels_train_gray, \n",
    "                    pgcIDs=pgcIDs_train_gray)\n",
    "np.savez_compressed('./Gray_128x128_test_000.npz', \n",
    "                    images=images_test_gray, \n",
    "                    labels=labels_test_gray, \n",
    "                    pgcIDs=pgcIDs_test_gray)"
   ]
  },
  {
   "cell_type": "code",
   "execution_count": 16,
   "metadata": {
    "id": "ZqDHrRgZLQeI"
   },
   "outputs": [],
   "source": [
    "np.savez_compressed('./RGB_128x128_train_000.npz', \n",
    "                    images=images_train_RGB, \n",
    "                    labels=labels_train_RGB, \n",
    "                    pgcIDs=pgcIDs_train_RGB)\n",
    "np.savez_compressed('./RGB_128x128_test_000.npz', \n",
    "                    images=images_test_RGB, \n",
    "                    labels=labels_test_RGB, \n",
    "                    pgcIDs=pgcIDs_test_RGB)"
   ]
  },
  {
   "cell_type": "markdown",
   "metadata": {
    "id": "bnF9weJtLQgf"
   },
   "source": [
    "### Run this part separately ....."
   ]
  },
  {
   "cell_type": "code",
   "execution_count": 19,
   "metadata": {
    "id": "O76pB3ZFObjy"
   },
   "outputs": [],
   "source": [
    "def esn_shuffle(array, seed=0):\n",
    "        np.random.seed(seed)\n",
    "        np.random.shuffle(array)\n",
    "        return array"
   ]
  },
  {
   "cell_type": "code",
   "execution_count": null,
   "metadata": {},
   "outputs": [],
   "source": [
    "# data = np.load('./Gray_128x128_train_000.npz')\n",
    "# images_ = data['images'].astype(np.uint8)\n",
    "# labels_ = data['labels'] \n",
    "# # data.close() \n",
    "# del data"
   ]
  },
  {
   "cell_type": "code",
   "execution_count": 16,
   "metadata": {},
   "outputs": [],
   "source": [
    "data = np.load('./Gray_128x128_train_000.npz')\n",
    "images_ = data['images'].astype(np.uint8)\n",
    "labels_ = data['labels'] \n",
    "pgcIDs_ = labels_[0]\n",
    "labels_ = labels_[1]\n",
    "data.close() \n",
    "del data"
   ]
  },
  {
   "cell_type": "code",
   "execution_count": 17,
   "metadata": {
    "id": "VG0pvBElLQi1"
   },
   "outputs": [],
   "source": [
    "N_trainRGB = 42030\n",
    "N_testRGB = 1128\n",
    "N_trainGray = 129060\n",
    "N_testGray = 3384"
   ]
  },
  {
   "cell_type": "code",
   "execution_count": null,
   "metadata": {
    "colab": {
     "base_uri": "https://localhost:8080/"
    },
    "id": "ICHSY9Qs1MJw",
    "outputId": "42522c27-aa9d-4a43-bf9a-6293d24e4426"
   },
   "outputs": [],
   "source": [
    "for i in range(1):\n",
    "    \n",
    "    # RGB\n",
    "#     images_train_aug = seq(images=images_) \n",
    "#     labels_train_aug = labels_\n",
    "#     pgcIDs_train_aug = pgcIDs_\n",
    "\n",
    "    # Gray\n",
    "    indx = np.arange(N_trainGray)\n",
    "    indx = esn_shuffle(indx, seed=i+10)\n",
    "    images_train_aug = seqGray(images=images_[indx][:N_trainRGB,:,:,:])\n",
    "    labels_train_aug = labels_[indx][:N_trainRGB]\n",
    "    pgcIDs_train_aug = pgcIDs_[indx][:N_trainRGB]\n",
    "\n",
    "    t2 =  datetime.now()\n",
    "    print(\"Execution time: \", i, t2-t1)\n",
    "\n",
    "    np.savez_compressed('./Gray_128x128_train_aug_'+str(i)+'.npz', images=images_train_aug, labels=labels_train_aug, pgcIDs=pgcIDs_train_aug)\n",
    "    print('save #', j)"
   ]
  },
  {
   "cell_type": "code",
   "execution_count": null,
   "metadata": {},
   "outputs": [],
   "source": [
    "n = 10\n",
    "m = 10\n",
    "\n",
    "fig, axes = plt.subplots(nrows=n, ncols=m, figsize=(15,15)) \n",
    "\n",
    "t = 0 \n",
    "for i in range(n):\n",
    "    for j in range(m):\n",
    "\n",
    "        ax = axes[i][j]\n",
    "        ax.imshow(images_train_aug[t,:,:])\n",
    "\n",
    "        plt.setp(ax.get_xticklabels(), visible=False)\n",
    "        plt.setp(ax.get_yticklabels(), visible=False)\n",
    "\n",
    "        t+=1\n",
    "  \n",
    "plt.subplots_adjust(hspace=0.03, wspace=0.03)"
   ]
  }
 ],
 "metadata": {
  "colab": {
   "collapsed_sections": [],
   "machine_shape": "hm",
   "name": "incNET_model_augmentation.ipynb",
   "provenance": []
  },
  "kernelspec": {
   "display_name": "Python 3",
   "language": "python",
   "name": "python3"
  },
  "language_info": {
   "codemirror_mode": {
    "name": "ipython",
    "version": 3
   },
   "file_extension": ".py",
   "mimetype": "text/x-python",
   "name": "python",
   "nbconvert_exporter": "python",
   "pygments_lexer": "ipython3",
   "version": "3.8.5"
  }
 },
 "nbformat": 4,
 "nbformat_minor": 1
}
