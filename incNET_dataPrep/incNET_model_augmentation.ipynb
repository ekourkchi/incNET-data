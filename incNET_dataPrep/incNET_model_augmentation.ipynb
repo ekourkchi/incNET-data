{
 "cells": [
  {
   "cell_type": "code",
   "execution_count": 1,
   "metadata": {
    "id": "VsCNiJ1YiFgw"
   },
   "outputs": [],
   "source": [
    "import sys\n",
    "import os\n",
    "import subprocess\n",
    "from math import *\n",
    "import numpy as np\n",
    "from datetime import *\n",
    "from pylab import *\n",
    "import matplotlib as mpl\n",
    "from matplotlib.widgets import Slider, Button, RadioButtons\n",
    "import matplotlib.pyplot as plt\n",
    "from astropy.table import Table, Column \n",
    "from mpl_toolkits.axes_grid1 import make_axes_locatable\n",
    "import matplotlib.patches as patches\n",
    "import scipy.misc as scimisc\n",
    "import random\n",
    "from datetime import datetime\n",
    "import json\n",
    "\n",
    "# from google.colab import drive\n",
    "# drive.mount('/content/drive')"
   ]
  },
  {
   "cell_type": "code",
   "execution_count": 2,
   "metadata": {
    "id": "aE1MlQUynxP-"
   },
   "outputs": [],
   "source": [
    "# !pip install imgaug\n",
    "\n",
    "import imageio\n",
    "import imgaug as ia\n",
    "import imgaug.augmenters as iaa\n",
    "import numpy as np\n",
    "import pandas as pd\n",
    "import matplotlib.pyplot as plt\n",
    "import matplotlib.patches as patches\n",
    "import matplotlib\n"
   ]
  },
  {
   "cell_type": "code",
   "execution_count": 3,
   "metadata": {
    "id": "auBYbdadplip"
   },
   "outputs": [],
   "source": [
    "import numpy as np\n",
    "import imgaug as ia\n",
    "import imgaug.augmenters as iaa\n",
    "\n",
    "\n",
    "ia.seed(100)\n",
    "\n",
    "seq = iaa.Sequential([\n",
    "\n",
    "    iaa.Sometimes(0.5, iaa.GaussianBlur(sigma=(0, 0.1))),\n",
    "    iaa.GammaContrast(gamma=(0.97,1.03)),\n",
    "    iaa.AdditiveGaussianNoise(loc=0, scale=(0.0, 3), per_channel=0.5),\n",
    "    iaa.Add((-5, 5), per_channel=0.5),\n",
    "    iaa.Multiply((0.8, 1.2), per_channel=0.5),\n",
    "    iaa.Sometimes(0.1, iaa.Grayscale(alpha=(0.0, 1.0))),\n",
    "    iaa.Sometimes(0.50, iaa.Grayscale(alpha=1.)),\n",
    "    iaa.Affine(\n",
    "        rotate=(0, 359),\n",
    "        scale={\"x\": (0.8, 1.2), \"y\": (0.8, 1.2)},\n",
    "        translate_percent={\"x\": (-0.15, 0.15), \"y\": (-0.15, 0.15)})\n",
    "    ], random_order=True)\n",
    "\n",
    "\n",
    "seqGray = iaa.Sequential([\n",
    "\n",
    "    iaa.Sometimes(0.5, iaa.GaussianBlur(sigma=(0, 0.1))),\n",
    "    iaa.GammaContrast(gamma=(0.97,1.03)),\n",
    "    iaa.AdditiveGaussianNoise(loc=0, scale=(0.0, 3), per_channel=0.5),\n",
    "    iaa.Add((-5, 5), per_channel=0.5),\n",
    "    iaa.Multiply((0.8, 1.2), per_channel=0.5),\n",
    "    iaa.Affine(\n",
    "        rotate=(0, 359),\n",
    "        scale={\"x\": (0.8, 1.2), \"y\": (0.8, 1.2)},\n",
    "        translate_percent={\"x\": (-0.15, 0.15), \"y\": (-0.15, 0.15)})\n",
    "    ], random_order=True)"
   ]
  },
  {
   "cell_type": "code",
   "execution_count": 4,
   "metadata": {
    "id": "PezjoGM10tM-"
   },
   "outputs": [],
   "source": [
    "data = np.load('./data_128x128_RGB.npz')\n",
    "images_ = data['images'].astype(np.uint8)\n",
    "labels_ = data['labels'] \n",
    "data.close() \n",
    "del data"
   ]
  },
  {
   "cell_type": "code",
   "execution_count": 5,
   "metadata": {
    "id": "9dBhAK8-0_Mx"
   },
   "outputs": [],
   "source": [
    "from sklearn.model_selection import train_test_split\n",
    "\n",
    "ix, = np.where(labels_[1]>45)\n",
    "\n",
    "images_c = images_[ix]\n",
    "labels_c = labels_[1][ix]\n",
    "pgcIDs_c = labels_[0][ix]\n",
    "\n",
    "images_train, images_test, labels_train, labels_test, pgcIDs_train,  pgcIDs_test = train_test_split(images_c, labels_c, pgcIDs_c, test_size=0.40)\n",
    "\n",
    "notUnique = np.isin(pgcIDs_test, pgcIDs_train)\n",
    "Unique = np.logical_not(notUnique)\n",
    "\n",
    "images_train_RGB = np.concatenate((images_train, images_test[notUnique]))\n",
    "labels_train_RGB  = np.concatenate((labels_train, labels_test[notUnique]))\n",
    "pgcIDs_train_RGB = np.concatenate((pgcIDs_train, pgcIDs_test[notUnique]))\n",
    "\n",
    "images_test_RGB = images_test[Unique]\n",
    "labels_test_RGB = labels_test[Unique]\n",
    "pgcIDs_test_RGB = pgcIDs_test[Unique]\n",
    "\n",
    "del images_\n",
    "del labels_\n",
    "\n",
    "del images_c\n",
    "del labels_c\n",
    "del pgcIDs_c"
   ]
  },
  {
   "cell_type": "code",
   "execution_count": 6,
   "metadata": {
    "id": "u6NgTBm4W0sI"
   },
   "outputs": [],
   "source": [
    "data = np.load('./data_128x128_g.npz')\n",
    "images_ = data['images'].astype(np.uint8)\n",
    "labels_ = data['labels'] \n",
    "data.close() \n",
    "del data\n",
    "\n",
    "pgcIDs_ = labels_[0]\n",
    "labels_ = labels_[1]\n",
    "\n",
    "inTrain = np.isin(pgcIDs_, pgcIDs_train_RGB)\n",
    "inTest = np.isin(pgcIDs_, pgcIDs_test_RGB)\n",
    "\n",
    "images_train_gray = images_[inTrain]\n",
    "labels_train_gray = labels_[inTrain]\n",
    "pgcIDs_train_gray = pgcIDs_[inTrain]\n",
    "\n",
    "images_test_gray = images_[inTest]\n",
    "labels_test_gray = labels_[inTest]\n",
    "pgcIDs_test_gray = pgcIDs_[inTest]\n",
    "\n",
    "\n",
    "del pgcIDs_\n",
    "del labels_\n",
    "del images_"
   ]
  },
  {
   "cell_type": "code",
   "execution_count": 7,
   "metadata": {
    "id": "xOCNoU_XLQb5"
   },
   "outputs": [],
   "source": [
    "data = np.load('./data_128x128_r.npz')\n",
    "images_ = data['images'].astype(np.uint8)\n",
    "labels_ = data['labels'] \n",
    "data.close() \n",
    "del data\n",
    "\n",
    "pgcIDs_ = labels_[0]\n",
    "labels_ = labels_[1]\n",
    "\n",
    "inTrain = np.isin(pgcIDs_, pgcIDs_train_RGB)\n",
    "inTest = np.isin(pgcIDs_, pgcIDs_test_RGB)\n",
    "\n",
    "images_train_gray = np.concatenate((images_train_gray, images_[inTrain]))\n",
    "labels_train_gray = np.concatenate((labels_train_gray, labels_[inTrain]))\n",
    "pgcIDs_train_gray = np.concatenate((pgcIDs_train_gray, pgcIDs_[inTrain]))\n",
    "\n",
    "images_test_gray = np.concatenate((images_test_gray, images_[inTest]))\n",
    "labels_test_gray = np.concatenate((labels_test_gray, labels_[inTest]))\n",
    "pgcIDs_test_gray = np.concatenate((pgcIDs_test_gray, pgcIDs_[inTest]))\n",
    "\n",
    "\n",
    "del pgcIDs_\n",
    "del labels_\n",
    "del images_"
   ]
  },
  {
   "cell_type": "code",
   "execution_count": 9,
   "metadata": {
    "id": "NinwybnPObg_"
   },
   "outputs": [],
   "source": [
    "data = np.load('./data_128x128_i.npz')\n",
    "images_ = data['images'].astype(np.uint8)\n",
    "labels_ = data['labels'] \n",
    "data.close() \n",
    "del data\n",
    "\n",
    "pgcIDs_ = labels_[0]\n",
    "labels_ = labels_[1]\n",
    "\n",
    "inTrain = np.isin(pgcIDs_, pgcIDs_train_RGB)\n",
    "inTest = np.isin(pgcIDs_, pgcIDs_test_RGB)\n",
    "\n",
    "images_train_gray = np.concatenate((images_train_gray, images_[inTrain]))\n",
    "labels_train_gray = np.concatenate((labels_train_gray, labels_[inTrain]))\n",
    "pgcIDs_train_gray = np.concatenate((pgcIDs_train_gray, pgcIDs_[inTrain]))\n",
    "\n",
    "images_test_gray = np.concatenate((images_test_gray, images_[inTest]))\n",
    "labels_test_gray = np.concatenate((labels_test_gray, labels_[inTest]))\n",
    "pgcIDs_test_gray = np.concatenate((pgcIDs_test_gray, pgcIDs_[inTest]))\n",
    "\n",
    "del pgcIDs_\n",
    "del labels_\n",
    "del images_"
   ]
  },
  {
   "cell_type": "code",
   "execution_count": 10,
   "metadata": {
    "id": "O76pB3ZFObjy"
   },
   "outputs": [],
   "source": [
    "def esn_shuffle(array, seed=0):\n",
    "        np.random.seed(seed)\n",
    "        np.random.shuffle(array)\n",
    "        return array"
   ]
  },
  {
   "cell_type": "code",
   "execution_count": 11,
   "metadata": {},
   "outputs": [
    {
     "data": {
      "text/plain": [
       "(3384, 129060)"
      ]
     },
     "execution_count": 11,
     "metadata": {},
     "output_type": "execute_result"
    }
   ],
   "source": [
    "N_testGray = len(pgcIDs_test_gray)\n",
    "N_trainGray = len(pgcIDs_train_gray)\n",
    "\n",
    "N_testGray, N_trainGray"
   ]
  },
  {
   "cell_type": "code",
   "execution_count": 13,
   "metadata": {},
   "outputs": [],
   "source": [
    "indx = np.arange(N_testGray)\n",
    "indx = esn_shuffle(indx, seed=0)\n",
    "\n",
    "images_test_gray = images_test_gray[indx]\n",
    "labels_test_gray = labels_test_gray[indx]\n",
    "pgcIDs_test_gray = pgcIDs_test_gray[indx]"
   ]
  },
  {
   "cell_type": "code",
   "execution_count": 14,
   "metadata": {},
   "outputs": [],
   "source": [
    "indx = np.arange(N_trainGray)\n",
    "indx = esn_shuffle(indx, seed=0)\n",
    "\n",
    "images_train_gray = images_train_gray[indx]\n",
    "labels_train_gray = images_train_gray[indx]\n",
    "pgcIDs_train_gray = images_train_gray[indx]"
   ]
  },
  {
   "cell_type": "code",
   "execution_count": null,
   "metadata": {
    "id": "VfWdcRu2Obqh"
   },
   "outputs": [],
   "source": [
    "np.savez_compressed('./Gray_128x128_train_000.npz', \n",
    "                    images=images_train_gray, \n",
    "                    labels=labels_train_gray, \n",
    "                    pgcIDs=pgcIDs_train_gray)\n",
    "np.savez_compressed('./Gray_128x128_test_000.npz', \n",
    "                    images=images_test_gray, \n",
    "                    labels=labels_test_gray, \n",
    "                    pgcIDs=pgcIDs_test_gray)"
   ]
  },
  {
   "cell_type": "code",
   "execution_count": null,
   "metadata": {
    "id": "ZqDHrRgZLQeI"
   },
   "outputs": [],
   "source": [
    "np.savez_compressed('./RGB_128x128_train_000.npz', \n",
    "                    images=images_train_RGB, \n",
    "                    labels=labels_train_RGB, \n",
    "                    pgcIDs=pgcIDs_train_RGB)\n",
    "np.savez_compressed('./RGB_128x128_test_000.npz', \n",
    "                    images=images_test_RGB, \n",
    "                    labels=labels_test_RGB, \n",
    "                    pgcIDs=pgcIDs_test_RGB)"
   ]
  },
  {
   "cell_type": "code",
   "execution_count": null,
   "metadata": {
    "id": "bnF9weJtLQgf"
   },
   "outputs": [],
   "source": []
  },
  {
   "cell_type": "code",
   "execution_count": null,
   "metadata": {
    "id": "VG0pvBElLQi1"
   },
   "outputs": [],
   "source": []
  },
  {
   "cell_type": "code",
   "execution_count": null,
   "metadata": {
    "colab": {
     "base_uri": "https://localhost:8080/"
    },
    "id": "ICHSY9Qs1MJw",
    "outputId": "42522c27-aa9d-4a43-bf9a-6293d24e4426"
   },
   "outputs": [
    {
     "name": "stdout",
     "output_type": "stream",
     "text": [
      "Execution time:  0 0:04:52.428852\n",
      "save # 0\n",
      "Execution time:  0 0:09:44.503527\n",
      "save # 1\n",
      "Execution time:  0 0:14:40.173470\n",
      "save # 2\n",
      "Execution time:  0 0:19:33.536470\n",
      "save # 3\n",
      "Execution time:  0 0:25:15.983512\n",
      "save # 4\n",
      "Execution time:  0 0:30:07.267499\n",
      "save # 5\n",
      "Execution time:  0 0:35:29.748691\n",
      "save # 6\n",
      "Execution time:  0 0:40:18.888320\n",
      "save # 7\n",
      "Execution time:  0 0:45:02.920305\n",
      "save # 8\n",
      "Execution time:  0 0:49:56.648657\n",
      "save # 9\n",
      "Execution time:  0 0:55:35.584290\n",
      "save # 10\n",
      "Execution time:  0 1:01:11.237501\n",
      "save # 11\n",
      "Execution time:  0 1:06:04.594874\n",
      "save # 12\n",
      "Execution time:  0 1:11:52.217900\n",
      "save # 13\n",
      "Execution time:  0 1:17:23.443271\n",
      "save # 14\n",
      "Execution time:  0 1:22:25.642447\n",
      "save # 15\n",
      "Execution time:  0 1:28:03.952067\n",
      "save # 16\n",
      "Execution time:  0 1:33:07.103613\n",
      "save # 17\n",
      "Execution time:  0 1:38:39.679928\n",
      "save # 18\n",
      "Execution time:  0 1:44:23.401976\n",
      "save # 19\n",
      "Execution time:  0 1:49:29.561257\n",
      "save # 20\n",
      "Execution time:  0 1:54:53.302962\n",
      "save # 21\n",
      "Execution time:  0 2:00:05.356266\n",
      "save # 22\n",
      "Execution time:  0 2:05:40.382972\n",
      "save # 23\n",
      "Execution time:  0 2:11:09.498418\n",
      "save # 24\n"
     ]
    }
   ],
   "source": [
    "import copy \n",
    "t1 = datetime.now()\n",
    "\n",
    "\n",
    "for j in range(25):\n",
    "\n",
    "  # images_train_aug = copy.deepcopy(images_train)\n",
    "  # labels_train_aug = copy.deepcopy(labels_train)\n",
    "  # pgcIDs_train_aug = copy.deepcopy(pgcIDs_train)\n",
    "\n",
    "  # images_test_aug = copy.deepcopy(images_test)\n",
    "  # labels_test_aug = copy.deepcopy(labels_test)\n",
    "  # pgcIDs_test_aug = copy.deepcopy(pgcIDs_test)\n",
    "\n",
    "\n",
    "  for i in range(1):\n",
    "    \n",
    "    dataAug = seq(images=images_train)\n",
    "    images_train_aug = dataAug # np.concatenate((images_train_aug, dataAug)) \n",
    "    labels_train_aug = labels_train # np.concatenate((labels_train_aug, labels_train)) \n",
    "    pgcIDs_train_aug = pgcIDs_train # np.concatenate((pgcIDs_train_aug, pgcIDs_train)) \n",
    "\n",
    "    dataAug = seq(images=images_test)\n",
    "    images_test_aug = dataAug # np.concatenate((images_test_aug, dataAug)) \n",
    "    labels_test_aug = labels_test # np.concatenate((labels_test_aug, labels_test)) \n",
    "    pgcIDs_test_aug = pgcIDs_test # np.concatenate((pgcIDs_test_aug, pgcIDs_test)) \n",
    "\n",
    "\n",
    "    t2 =  datetime.now()\n",
    "    print(\"Execution time: \", i, t2-t1)\n",
    "\n",
    "  np.savez_compressed('/content/drive/My Drive/Colab Notebooks/Tsclased_128x128_trainaug_'+str(j)+'.npz', images=images_train_aug, labels=labels_train_aug, pgcIDs=pgcIDs_train_aug)\n",
    "  np.savez_compressed('/content/drive/My Drive/Colab Notebooks/Tsclased_128x128_testaug_'+str(j)+'.npz', images=images_test_aug, labels=labels_test_aug, pgcIDs=pgcIDs_test_aug)\n",
    "  print('save #', j)"
   ]
  }
 ],
 "metadata": {
  "colab": {
   "collapsed_sections": [],
   "machine_shape": "hm",
   "name": "incNET_model_augmentation.ipynb",
   "provenance": []
  },
  "kernelspec": {
   "display_name": "Python 3",
   "language": "python",
   "name": "python3"
  },
  "language_info": {
   "codemirror_mode": {
    "name": "ipython",
    "version": 3
   },
   "file_extension": ".py",
   "mimetype": "text/x-python",
   "name": "python",
   "nbconvert_exporter": "python",
   "pygments_lexer": "ipython3",
   "version": "3.8.5"
  }
 },
 "nbformat": 4,
 "nbformat_minor": 1
}
