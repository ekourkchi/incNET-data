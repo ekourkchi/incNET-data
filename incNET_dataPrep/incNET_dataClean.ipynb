{
 "cells": [
  {
   "cell_type": "markdown",
   "metadata": {},
   "source": [
    "# Data Preparation \n",
    "\n",
    "This notebook discuss how we have manually labelled spiral galaxies using an [online GUI](http://edd.ifa.hawaii.edu/inclination/) in a collaborative project. Users of the interface are asked to situate a target galaxy within a lattice of galaxies with established inclinations. In this graphical interface, we use the colorful images provided [SDSS](https://www.sdss.org/) as well as the `g`, `r` and `i` band images generated for our photometry program. These latter are presented in black-and-white after re-scaling by the `asinh` function to differentiate more clearly the internal structures of galaxies. The inclination of standard galaxies were initially measured based on their `I`-band axial ratios."
   ]
  },
  {
   "cell_type": "code",
   "execution_count": 1,
   "metadata": {},
   "outputs": [
    {
     "data": {
      "text/html": [
       "<img src=\"http://edd.ifa.hawaii.edu/inclination/helpics/drag_drop.png\"/>"
      ],
      "text/plain": [
       "<IPython.core.display.Image object>"
      ]
     },
     "execution_count": 1,
     "metadata": {},
     "output_type": "execute_result"
    }
   ],
   "source": [
    "from IPython.display import Image\n",
    "from IPython.core.display import HTML \n",
    "\n",
    "Image(url= \"http://edd.ifa.hawaii.edu/inclination/helpics/drag_drop.png\")"
   ]
  },
  {
   "cell_type": "markdown",
   "metadata": {},
   "source": [
    "Each galaxy is compared with the standard galaxies in two steps. First, the user locates the galaxy among nine standard galaxies sorted by their inclinations ranging between 45 and 90 degrees in increments of `5` degrees. \n",
    "In step two, the same galaxy is compared with nine other standard galaxies whose inclinations are one degree apart and cover the 5 degrees interval found in the first step. At the end, the inclination is calculated by averaging the inclinations of the standard galaxies on the left/right-side of the target galaxy. "
   ]
  },
  {
   "cell_type": "code",
   "execution_count": 2,
   "metadata": {},
   "outputs": [
    {
     "data": {
      "text/html": [
       "<img src=\"http://edd.ifa.hawaii.edu/inclination/helpics/trash.png\"/>"
      ],
      "text/plain": [
       "<IPython.core.display.Image object>"
      ]
     },
     "execution_count": 2,
     "metadata": {},
     "output_type": "execute_result"
    }
   ],
   "source": [
    "Image(url= \"http://edd.ifa.hawaii.edu/inclination/helpics/trash.png\")"
   ]
  },
  {
   "cell_type": "markdown",
   "metadata": {},
   "source": [
    "We take the following precautions to minimize user dependant and independent biases:\n",
    "\n",
    "- We round the resulting inclinations to the next highest or smallest integer values chosen randomly. \n",
    "- At each step, standard galaxies are randomly drawn with an option for users to change them randomly to verify their work or to compare galaxies with similar structures. \n",
    "- To increase the accuracy of the results, we catalog the median of at least **three** different measurements preformed by different users. \n",
    "- Users may **reject** galaxies for various reasons and leave comments with the aim of avoiding dubious cases.\n",
    "\n",
    "The uncertainties on the measured inclinations are estimated based on the statistical scatter in the reported values by different users.\n",
    "\n",
    "A more detailed discussions of these measurements and their uncertainties are presented in these papers: \n",
    "\n",
    "- Global Attenuation in Spiral Galaxies in Optical and Infrared Bands (**Journal ref:** Kourkchi et al.,2019, ApJ, 884, 82, [arXiv:1909.01572](https://arxiv.org/pdf/1909.01572))\n",
    "- Cosmicflows-4: The Catalog of ~10000 Tully-Fisher Distances (**Journal ref:** Kourkchi et al., 2020, ApJ, 902, 145, [arXiv:2009.00733](https://arxiv.org/pdf/2009.00733)) "
   ]
  },
  {
   "cell_type": "markdown",
   "metadata": {},
   "source": [
    "## Data Product\n",
    "\n",
    "[Galaxy Inclination Zoo](http://edd.ifa.hawaii.edu/inclination/) stores all of of the outputs in a `SQL` database. Each time a user sorts a galaxy in the GUI, the database gets updated.\n",
    "\n",
    "We have devided the users of the project into two groups:\n",
    "1. Undergraduate students of the Unviersity of Hawaii at Manoa\n",
    "2. Citizen scientists and astronomy enthusiasts who helps us in this project\n",
    "\n",
    "The output tables of the SQL database have been stored in two tables:\n",
    "- `EDD_incNET_Manoa.20190524.txt` for the UH students\n",
    "- `EDD_incNET_Guest.20190524.txt` for the guest users\n"
   ]
  },
  {
   "cell_type": "code",
   "execution_count": 88,
   "metadata": {},
   "outputs": [],
   "source": [
    "import sys\n",
    "import os\n",
    "import subprocess\n",
    "import glob\n",
    "from math import *\n",
    "import numpy as np\n",
    "from datetime import *\n",
    "from pylab import *\n",
    "import matplotlib as mpl\n",
    "from matplotlib.widgets import Slider, Button, RadioButtons\n",
    "import matplotlib.pyplot as plt\n",
    "from astropy.table import Table, Column \n",
    "from mpl_toolkits.axes_grid1 import make_axes_locatable\n",
    "from optparse import OptionParser\n",
    "from PIL import Image#, ImageTk\n",
    "from subprocess import Popen, PIPE\n",
    "import matplotlib.patches as patches\n",
    "import scipy.misc as scimisc\n",
    "import pandas as pd"
   ]
  },
  {
   "cell_type": "markdown",
   "metadata": {},
   "source": [
    "## Output format\n",
    "\n",
    "- Each user is identified by his/her email address. \n",
    "- `inc` is the mesured inclnation at each instance\n",
    "- `pgcID` is the ID of the sorted target galaxy whose inclination has been evaluated\n",
    "- `pgcID1` and `pgcID2` are the ID of the galaxies that are located in the left and right of the target galaxy by user\n",
    "- `flag` = 0 if galaxy has been accepted, = 1 if user has decided to reject the galaxy\n",
    "- `email` is the user email address\n",
    "- `note` holds the optional notes left by users\n",
    "- Other columns are self explanatory. They hold some data logs that are produced by user. If a user decide to reject a galaxy for specific reasons, they would be recorded in the relevant columns."
   ]
  },
  {
   "cell_type": "code",
   "execution_count": 89,
   "metadata": {},
   "outputs": [
    {
     "data": {
      "text/html": [
       "<div>\n",
       "<style scoped>\n",
       "    .dataframe tbody tr th:only-of-type {\n",
       "        vertical-align: middle;\n",
       "    }\n",
       "\n",
       "    .dataframe tbody tr th {\n",
       "        vertical-align: top;\n",
       "    }\n",
       "\n",
       "    .dataframe thead th {\n",
       "        text-align: right;\n",
       "    }\n",
       "</style>\n",
       "<table border=\"1\" class=\"dataframe\">\n",
       "  <thead>\n",
       "    <tr style=\"text-align: right;\">\n",
       "      <th></th>\n",
       "      <th>id</th>\n",
       "      <th>pgcID</th>\n",
       "      <th>inc</th>\n",
       "      <th>pgcID1</th>\n",
       "      <th>pgcID2</th>\n",
       "      <th>flag</th>\n",
       "      <th>not_sure</th>\n",
       "      <th>better_image</th>\n",
       "      <th>bad_TF</th>\n",
       "      <th>ambiguous</th>\n",
       "      <th>...</th>\n",
       "      <th>HI</th>\n",
       "      <th>face_on</th>\n",
       "      <th>not_spiral</th>\n",
       "      <th>multiple</th>\n",
       "      <th>note</th>\n",
       "      <th>email</th>\n",
       "      <th>inputTable</th>\n",
       "      <th>checkoutTime</th>\n",
       "      <th>checkinTime</th>\n",
       "      <th>ip</th>\n",
       "    </tr>\n",
       "  </thead>\n",
       "  <tbody>\n",
       "    <tr>\n",
       "      <th>0</th>\n",
       "      <td>82359</td>\n",
       "      <td>34787</td>\n",
       "      <td>82.5</td>\n",
       "      <td>25423</td>\n",
       "      <td>2928</td>\n",
       "      <td>0</td>\n",
       "      <td>0</td>\n",
       "      <td>0</td>\n",
       "      <td>0</td>\n",
       "      <td>0</td>\n",
       "      <td>...</td>\n",
       "      <td>0</td>\n",
       "      <td>0</td>\n",
       "      <td>0</td>\n",
       "      <td>0</td>\n",
       "      <td></td>\n",
       "      <td>s.eftekharzadeh@gmail.com</td>\n",
       "      <td>sdss_finale_srh</td>\n",
       "      <td>2019-05-24 15:54:00</td>\n",
       "      <td>2019-05-24 15:55:53</td>\n",
       "      <td>73.131.231.15</td>\n",
       "    </tr>\n",
       "    <tr>\n",
       "      <th>1</th>\n",
       "      <td>82358</td>\n",
       "      <td>91449</td>\n",
       "      <td>90.0</td>\n",
       "      <td>36431</td>\n",
       "      <td></td>\n",
       "      <td>0</td>\n",
       "      <td>0</td>\n",
       "      <td>0</td>\n",
       "      <td>0</td>\n",
       "      <td>0</td>\n",
       "      <td>...</td>\n",
       "      <td>0</td>\n",
       "      <td>0</td>\n",
       "      <td>0</td>\n",
       "      <td>0</td>\n",
       "      <td></td>\n",
       "      <td>s.eftekharzadeh@gmail.com</td>\n",
       "      <td>sdss_finale_srh</td>\n",
       "      <td>2019-05-24 15:53:30</td>\n",
       "      <td>2019-05-24 15:53:56</td>\n",
       "      <td>73.131.231.15</td>\n",
       "    </tr>\n",
       "    <tr>\n",
       "      <th>2</th>\n",
       "      <td>82357</td>\n",
       "      <td>2609142</td>\n",
       "      <td>85.5</td>\n",
       "      <td>71260</td>\n",
       "      <td>3332</td>\n",
       "      <td>0</td>\n",
       "      <td>0</td>\n",
       "      <td>0</td>\n",
       "      <td>0</td>\n",
       "      <td>0</td>\n",
       "      <td>...</td>\n",
       "      <td>0</td>\n",
       "      <td>0</td>\n",
       "      <td>0</td>\n",
       "      <td>0</td>\n",
       "      <td></td>\n",
       "      <td>s.eftekharzadeh@gmail.com</td>\n",
       "      <td>sdss_finale_srh</td>\n",
       "      <td>2019-05-24 15:50:27</td>\n",
       "      <td>2019-05-24 15:53:25</td>\n",
       "      <td>73.131.231.15</td>\n",
       "    </tr>\n",
       "    <tr>\n",
       "      <th>3</th>\n",
       "      <td>82356</td>\n",
       "      <td>53853</td>\n",
       "      <td>61.5</td>\n",
       "      <td>40507</td>\n",
       "      <td>50784</td>\n",
       "      <td>0</td>\n",
       "      <td>0</td>\n",
       "      <td>0</td>\n",
       "      <td>0</td>\n",
       "      <td>0</td>\n",
       "      <td>...</td>\n",
       "      <td>0</td>\n",
       "      <td>0</td>\n",
       "      <td>0</td>\n",
       "      <td>0</td>\n",
       "      <td></td>\n",
       "      <td>s.eftekharzadeh@gmail.com</td>\n",
       "      <td>sdss_finale_srh</td>\n",
       "      <td>2019-05-24 15:48:41</td>\n",
       "      <td>2019-05-24 15:50:00</td>\n",
       "      <td>73.131.231.15</td>\n",
       "    </tr>\n",
       "    <tr>\n",
       "      <th>4</th>\n",
       "      <td>82355</td>\n",
       "      <td>53842</td>\n",
       "      <td>90.0</td>\n",
       "      <td>1933</td>\n",
       "      <td></td>\n",
       "      <td>0</td>\n",
       "      <td>0</td>\n",
       "      <td>0</td>\n",
       "      <td>0</td>\n",
       "      <td>0</td>\n",
       "      <td>...</td>\n",
       "      <td>0</td>\n",
       "      <td>0</td>\n",
       "      <td>0</td>\n",
       "      <td>0</td>\n",
       "      <td></td>\n",
       "      <td>s.eftekharzadeh@gmail.com</td>\n",
       "      <td>sdss_finale_srh</td>\n",
       "      <td>2019-05-24 15:47:48</td>\n",
       "      <td>2019-05-24 15:48:35</td>\n",
       "      <td>73.131.231.15</td>\n",
       "    </tr>\n",
       "  </tbody>\n",
       "</table>\n",
       "<p>5 rows × 21 columns</p>\n",
       "</div>"
      ],
      "text/plain": [
       "      id    pgcID   inc     pgcID1     pgcID2  flag  not_sure  better_image  \\\n",
       "0  82359    34787  82.5     25423       2928      0         0             0   \n",
       "1  82358    91449  90.0     36431                 0         0             0   \n",
       "2  82357  2609142  85.5     71260       3332      0         0             0   \n",
       "3  82356    53853  61.5     40507      50784      0         0             0   \n",
       "4  82355    53842  90.0      1933                 0         0             0   \n",
       "\n",
       "   bad_TF  ambiguous  ...  HI  face_on  not_spiral  multiple  note  \\\n",
       "0       0          0  ...   0        0           0         0         \n",
       "1       0          0  ...   0        0           0         0         \n",
       "2       0          0  ...   0        0           0         0         \n",
       "3       0          0  ...   0        0           0         0         \n",
       "4       0          0  ...   0        0           0         0         \n",
       "\n",
       "                       email                        inputTable  \\\n",
       "0  s.eftekharzadeh@gmail.com                  sdss_finale_srh    \n",
       "1  s.eftekharzadeh@gmail.com                  sdss_finale_srh    \n",
       "2  s.eftekharzadeh@gmail.com                  sdss_finale_srh    \n",
       "3  s.eftekharzadeh@gmail.com                  sdss_finale_srh    \n",
       "4  s.eftekharzadeh@gmail.com                  sdss_finale_srh    \n",
       "\n",
       "            checkoutTime            checkinTime                     ip  \n",
       "0   2019-05-24 15:54:00    2019-05-24 15:55:53           73.131.231.15  \n",
       "1   2019-05-24 15:53:30    2019-05-24 15:53:56           73.131.231.15  \n",
       "2   2019-05-24 15:50:27    2019-05-24 15:53:25           73.131.231.15  \n",
       "3   2019-05-24 15:48:41    2019-05-24 15:50:00           73.131.231.15  \n",
       "4   2019-05-24 15:47:48    2019-05-24 15:48:35           73.131.231.15  \n",
       "\n",
       "[5 rows x 21 columns]"
      ]
     },
     "execution_count": 89,
     "metadata": {},
     "output_type": "execute_result"
    }
   ],
   "source": [
    "Manoa = pd.read_csv('EDD_incNET_Manoa.20190524.txt', delimiter='|')\n",
    "Manoa.email = Manoa.apply(lambda x: ' '.join(x.email.split()), axis=1)  # removing extra spaces\n",
    "Manoa.note = Manoa.apply(lambda x: ' '.join(x.note.split()), axis=1)\n",
    "\n",
    "Guest = pd.read_csv('EDD_incNET_Guest.20190524.txt', delimiter='|')\n",
    "Guest.email = Guest.apply(lambda x: ' '.join(x.email.split()), axis=1) \n",
    "Guest.note = Guest.apply(lambda x: ' '.join(x.note.split()), axis=1)\n",
    "\n",
    "df_All = pd.concat([Manoa, Guest]) # .set_index('pgcID')\n",
    "\n",
    "df_All.head()"
   ]
  },
  {
   "cell_type": "code",
   "execution_count": 97,
   "metadata": {},
   "outputs": [
    {
     "data": {
      "text/html": [
       "<div>\n",
       "<style scoped>\n",
       "    .dataframe tbody tr th:only-of-type {\n",
       "        vertical-align: middle;\n",
       "    }\n",
       "\n",
       "    .dataframe tbody tr th {\n",
       "        vertical-align: top;\n",
       "    }\n",
       "\n",
       "    .dataframe thead th {\n",
       "        text-align: right;\n",
       "    }\n",
       "</style>\n",
       "<table border=\"1\" class=\"dataframe\">\n",
       "  <thead>\n",
       "    <tr style=\"text-align: right;\">\n",
       "      <th></th>\n",
       "      <th>inc</th>\n",
       "      <th>flag</th>\n",
       "      <th>face_on</th>\n",
       "    </tr>\n",
       "    <tr>\n",
       "      <th>pgcID</th>\n",
       "      <th></th>\n",
       "      <th></th>\n",
       "      <th></th>\n",
       "    </tr>\n",
       "  </thead>\n",
       "  <tbody>\n",
       "    <tr>\n",
       "      <th>-1</th>\n",
       "      <td>-1.0</td>\n",
       "      <td>0.0</td>\n",
       "      <td>0.0</td>\n",
       "    </tr>\n",
       "    <tr>\n",
       "      <th>2</th>\n",
       "      <td>52.5</td>\n",
       "      <td>0.0</td>\n",
       "      <td>0.0</td>\n",
       "    </tr>\n",
       "    <tr>\n",
       "      <th>4</th>\n",
       "      <td>85.5</td>\n",
       "      <td>0.0</td>\n",
       "      <td>0.0</td>\n",
       "    </tr>\n",
       "    <tr>\n",
       "      <th>12</th>\n",
       "      <td>81.5</td>\n",
       "      <td>0.0</td>\n",
       "      <td>0.0</td>\n",
       "    </tr>\n",
       "    <tr>\n",
       "      <th>16</th>\n",
       "      <td>65.5</td>\n",
       "      <td>0.0</td>\n",
       "      <td>0.0</td>\n",
       "    </tr>\n",
       "  </tbody>\n",
       "</table>\n",
       "</div>"
      ],
      "text/plain": [
       "        inc  flag  face_on\n",
       "pgcID                     \n",
       "-1     -1.0   0.0      0.0\n",
       " 2     52.5   0.0      0.0\n",
       " 4     85.5   0.0      0.0\n",
       " 12    81.5   0.0      0.0\n",
       " 16    65.5   0.0      0.0"
      ]
     },
     "execution_count": 97,
     "metadata": {},
     "output_type": "execute_result"
    }
   ],
   "source": [
    "df_incMedian = df_All[[\"pgcID\", \"inc\", \"flag\", \"face_on\"]].groupby('pgcID').agg('median')\n",
    "\n",
    "df_incMedian.head()"
   ]
  },
  {
   "cell_type": "markdown",
   "metadata": {},
   "source": [
    "Defining the supervisors of the project. If any of these supervisors rejects a galaxy (flag=1), the glaxy should be rejected regardless of the opinion of other users. If two supervisors contradict each other, the preference goes to RBT.\n",
    "\n",
    "- R. B. Tully (has participated in the project via 2 email addresses)\n",
    "- Ehsan Kourkchi (just one email address)"
   ]
  },
  {
   "cell_type": "code",
   "execution_count": 98,
   "metadata": {},
   "outputs": [],
   "source": [
    "Keypeople_ehsan = ['ekourkchi@gmail.com']\n",
    "Keypeople_brent = ['rbtully1@gmail.com', 'rtully@hawaii.edu']"
   ]
  },
  {
   "cell_type": "code",
   "execution_count": 103,
   "metadata": {},
   "outputs": [
    {
     "data": {
      "text/html": [
       "<div>\n",
       "<style scoped>\n",
       "    .dataframe tbody tr th:only-of-type {\n",
       "        vertical-align: middle;\n",
       "    }\n",
       "\n",
       "    .dataframe tbody tr th {\n",
       "        vertical-align: top;\n",
       "    }\n",
       "\n",
       "    .dataframe thead th {\n",
       "        text-align: right;\n",
       "    }\n",
       "</style>\n",
       "<table border=\"1\" class=\"dataframe\">\n",
       "  <thead>\n",
       "    <tr style=\"text-align: right;\">\n",
       "      <th></th>\n",
       "      <th>flag_ehsan</th>\n",
       "      <th>face_on_ehsan</th>\n",
       "      <th>flag_brent</th>\n",
       "      <th>face_on_brent</th>\n",
       "      <th>flag_super</th>\n",
       "      <th>face_on_super</th>\n",
       "    </tr>\n",
       "    <tr>\n",
       "      <th>pgcID</th>\n",
       "      <th></th>\n",
       "      <th></th>\n",
       "      <th></th>\n",
       "      <th></th>\n",
       "      <th></th>\n",
       "      <th></th>\n",
       "    </tr>\n",
       "  </thead>\n",
       "  <tbody>\n",
       "    <tr>\n",
       "      <th>6719913</th>\n",
       "      <td>1.0</td>\n",
       "      <td>0.0</td>\n",
       "      <td>NaN</td>\n",
       "      <td>NaN</td>\n",
       "      <td>1.0</td>\n",
       "      <td>0.0</td>\n",
       "    </tr>\n",
       "    <tr>\n",
       "      <th>6724044</th>\n",
       "      <td>1.0</td>\n",
       "      <td>1.0</td>\n",
       "      <td>NaN</td>\n",
       "      <td>NaN</td>\n",
       "      <td>1.0</td>\n",
       "      <td>1.0</td>\n",
       "    </tr>\n",
       "    <tr>\n",
       "      <th>6724069</th>\n",
       "      <td>0.0</td>\n",
       "      <td>0.0</td>\n",
       "      <td>NaN</td>\n",
       "      <td>NaN</td>\n",
       "      <td>0.0</td>\n",
       "      <td>0.0</td>\n",
       "    </tr>\n",
       "    <tr>\n",
       "      <th>6724508</th>\n",
       "      <td>1.0</td>\n",
       "      <td>0.0</td>\n",
       "      <td>0.0</td>\n",
       "      <td>0.0</td>\n",
       "      <td>0.0</td>\n",
       "      <td>0.0</td>\n",
       "    </tr>\n",
       "    <tr>\n",
       "      <th>6726345</th>\n",
       "      <td>1.0</td>\n",
       "      <td>1.0</td>\n",
       "      <td>NaN</td>\n",
       "      <td>NaN</td>\n",
       "      <td>1.0</td>\n",
       "      <td>1.0</td>\n",
       "    </tr>\n",
       "  </tbody>\n",
       "</table>\n",
       "</div>"
      ],
      "text/plain": [
       "         flag_ehsan  face_on_ehsan  flag_brent  face_on_brent  flag_super  \\\n",
       "pgcID                                                                       \n",
       "6719913         1.0            0.0         NaN            NaN         1.0   \n",
       "6724044         1.0            1.0         NaN            NaN         1.0   \n",
       "6724069         0.0            0.0         NaN            NaN         0.0   \n",
       "6724508         1.0            0.0         0.0            0.0         0.0   \n",
       "6726345         1.0            1.0         NaN            NaN         1.0   \n",
       "\n",
       "         face_on_super  \n",
       "pgcID                   \n",
       "6719913            0.0  \n",
       "6724044            1.0  \n",
       "6724069            0.0  \n",
       "6724508            0.0  \n",
       "6726345            1.0  "
      ]
     },
     "execution_count": 103,
     "metadata": {},
     "output_type": "execute_result"
    }
   ],
   "source": [
    "df_ehsan = df[[True if email in Keypeople_ehsan else False for email in df.email.values]][[\"pgcID\",'flag',\"face_on\"]]\n",
    "# happens that a person has worked on a galaxy multiplt times\n",
    "ehsan_flagMed = df_ehsan.groupby('pgcID').agg('median') \n",
    "\n",
    "\n",
    "df_brent = df[[True if email in Keypeople_brent else False for email in df.email.values]][[\"pgcID\",'flag',\"face_on\"]]\n",
    "brent_flagMed = df_brent.groupby('pgcID').agg('median')\n",
    "\n",
    "\n",
    "df_super = ehsan_flagMed.join(brent_flagMed, how='outer', lsuffix='_ehsan', rsuffix='_brent')\n",
    "\n",
    "# Brent's flag is prefered over Ehsan's\n",
    "df_super['flag_super'] = df_super.apply(lambda x: x.flag_brent if ~np.isnan(x.flag_brent) else x.flag_ehsan, axis=1)\n",
    "df_super['face_on_super'] = df_super.apply(lambda x: x.face_on_brent if ~np.isnan(x.face_on_brent) else x.face_on_ehsan, axis=1)\n",
    "\n",
    "\n",
    "df_super.tail()"
   ]
  },
  {
   "cell_type": "markdown",
   "metadata": {},
   "source": [
    "## Labeling\n",
    "\n",
    "First we define the status of each galaxy\n",
    "- `A`: Accepted\n",
    "- `F`: Face-on\n",
    "- `J`: Rejected\n",
    "\n",
    "Then we generate classification labels which is exactly the same as the status except for galaxies with accepted inclinations, where their inclination is used as label"
   ]
  },
  {
   "cell_type": "code",
   "execution_count": 126,
   "metadata": {},
   "outputs": [
    {
     "data": {
      "text/html": [
       "<div>\n",
       "<style scoped>\n",
       "    .dataframe tbody tr th:only-of-type {\n",
       "        vertical-align: middle;\n",
       "    }\n",
       "\n",
       "    .dataframe tbody tr th {\n",
       "        vertical-align: top;\n",
       "    }\n",
       "\n",
       "    .dataframe thead th {\n",
       "        text-align: right;\n",
       "    }\n",
       "</style>\n",
       "<table border=\"1\" class=\"dataframe\">\n",
       "  <thead>\n",
       "    <tr style=\"text-align: right;\">\n",
       "      <th></th>\n",
       "      <th>inclination</th>\n",
       "      <th>status</th>\n",
       "      <th>label</th>\n",
       "    </tr>\n",
       "    <tr>\n",
       "      <th>pgcID</th>\n",
       "      <th></th>\n",
       "      <th></th>\n",
       "      <th></th>\n",
       "    </tr>\n",
       "  </thead>\n",
       "  <tbody>\n",
       "    <tr>\n",
       "      <th>2</th>\n",
       "      <td>52.5</td>\n",
       "      <td>J</td>\n",
       "      <td>52</td>\n",
       "    </tr>\n",
       "    <tr>\n",
       "      <th>4</th>\n",
       "      <td>85.5</td>\n",
       "      <td>J</td>\n",
       "      <td>85</td>\n",
       "    </tr>\n",
       "    <tr>\n",
       "      <th>12</th>\n",
       "      <td>81.5</td>\n",
       "      <td>J</td>\n",
       "      <td>81</td>\n",
       "    </tr>\n",
       "    <tr>\n",
       "      <th>16</th>\n",
       "      <td>65.5</td>\n",
       "      <td>J</td>\n",
       "      <td>65</td>\n",
       "    </tr>\n",
       "    <tr>\n",
       "      <th>18</th>\n",
       "      <td>47.0</td>\n",
       "      <td>J</td>\n",
       "      <td>47</td>\n",
       "    </tr>\n",
       "    <tr>\n",
       "      <th>55</th>\n",
       "      <td>78.0</td>\n",
       "      <td>J</td>\n",
       "      <td>78</td>\n",
       "    </tr>\n",
       "    <tr>\n",
       "      <th>68</th>\n",
       "      <td>55.5</td>\n",
       "      <td>J</td>\n",
       "      <td>55</td>\n",
       "    </tr>\n",
       "    <tr>\n",
       "      <th>70</th>\n",
       "      <td>90.0</td>\n",
       "      <td>J</td>\n",
       "      <td>90</td>\n",
       "    </tr>\n",
       "    <tr>\n",
       "      <th>76</th>\n",
       "      <td>68.5</td>\n",
       "      <td>J</td>\n",
       "      <td>68</td>\n",
       "    </tr>\n",
       "    <tr>\n",
       "      <th>83</th>\n",
       "      <td>0.0</td>\n",
       "      <td>A</td>\n",
       "      <td>J</td>\n",
       "    </tr>\n",
       "  </tbody>\n",
       "</table>\n",
       "</div>"
      ],
      "text/plain": [
       "       inclination status label\n",
       "pgcID                          \n",
       "2             52.5      J    52\n",
       "4             85.5      J    85\n",
       "12            81.5      J    81\n",
       "16            65.5      J    65\n",
       "18            47.0      J    47\n",
       "55            78.0      J    78\n",
       "68            55.5      J    55\n",
       "70            90.0      J    90\n",
       "76            68.5      J    68\n",
       "83             0.0      A     J"
      ]
     },
     "execution_count": 126,
     "metadata": {},
     "output_type": "execute_result"
    }
   ],
   "source": [
    "df_final = df_incMedian.join(df_super, how='outer')\n",
    "\n",
    "# Super flag is prefered over median flag that is generated from the work of all users\n",
    "df_final['flag_final'] = df_final.apply(lambda x: x.flag_super if ~np.isnan(x.flag_super) else x.flag, axis=1)\n",
    "df_final['face_on_final'] = df_final.apply(lambda x: x.face_on_super if ~np.isnan(x.face_on_super) else x.face_on, axis=1)\n",
    "\n",
    "\n",
    "df_final = df_final[[\"inc\", \"flag_final\", \"face_on_final\"]]\n",
    "\n",
    "df_final['status'] = 'A'  # accepted\n",
    "\n",
    "# Face-on\n",
    "df_final['status'] = df_final.apply(lambda x: 'F' if x.face_on_final==1 else x.status, axis=1) \n",
    "# Rejected\n",
    "df_final['status'] = df_final.apply(lambda x: 'J' if (x.face_on_final==0 and \\\n",
    "                                                      x.flag_final==0) else x.status, axis=1)   \n",
    "\n",
    "\n",
    "df_final = df_final[[\"inc\", \"status\"]].rename(columns={'inc':'inclination'})\n",
    "\n",
    "# Generating claffication labels\n",
    "# if inc<45 look at the status, if status is already accepted turn it into a rejection, because our online GUI\n",
    "# has not been designed to sort galaxies with inclinations less than 45 degree\n",
    "df_final['label'] = df_final.apply(lambda x: str(int(x.inclination)) if round(x.inclination)>=45 else \\\n",
    "                                                      x.status if x.status!='A' else 'J', axis=1)   \n",
    "\n",
    "# taking care of negative galaxy IDs generated during the development stage of the online GUI and its database\n",
    "df = df_final[df_final.index>0]   \n",
    "\n",
    "df.head(10)"
   ]
  },
  {
   "cell_type": "markdown",
   "metadata": {},
   "source": [
    "# Data Exploration\n",
    "\n",
    "Here is the distribution of the labels across the sample.\n",
    "As seen, out of `19,907`, ~22% are rejected for various astronmical reasons and ~8% are face-on thus not acceptable for our original research purpose."
   ]
  },
  {
   "cell_type": "code",
   "execution_count": 143,
   "metadata": {},
   "outputs": [
    {
     "name": "stdout",
     "output_type": "stream",
     "text": [
      "# of galaxies in our original sample:  19907\n"
     ]
    }
   ],
   "source": [
    "N = len(df)\n",
    "\n",
    "print(\"# of galaxies in our original sample: \", N)"
   ]
  },
  {
   "cell_type": "code",
   "execution_count": 155,
   "metadata": {},
   "outputs": [
    {
     "name": "stdout",
     "output_type": "stream",
     "text": [
      "number of rejected galaxies: 4373 (22%)\n",
      "number of face-on galaxies: 1667 (8%)\n"
     ]
    }
   ],
   "source": [
    "n_reject = len(df[df.label=='J'])\n",
    "n_face   = len(df[df.label=='F'])\n",
    "\n",
    "print(\"number of rejected galaxies: {} ({:.0f}%)\".format(n_reject, n_reject/N*100.))\n",
    "print(\"number of face-on galaxies: {} ({:.0f}%)\".format(n_face, n_face/N*100.))"
   ]
  },
  {
   "cell_type": "markdown",
   "metadata": {},
   "source": [
    "In our research, we purposfully favored more edge-on galaxies, to "
   ]
  },
  {
   "cell_type": "code",
   "execution_count": 141,
   "metadata": {},
   "outputs": [
    {
     "data": {
      "text/plain": [
       "Text(0, 0.5, 'number of galaxies')"
      ]
     },
     "execution_count": 141,
     "metadata": {},
     "output_type": "execute_result"
    },
    {
     "data": {
      "image/png": "[encoded data removed]",
      "text/plain": [
       "<Figure size 1000x400 with 1 Axes>"
      ]
     },
     "metadata": {
      "needs_background": "light"
     },
     "output_type": "display_data"
    }
   ],
   "source": [
    "fig = plt.figure(figsize=(10, 4), dpi=100)\n",
    "ax = fig.add_axes([0.13, 0.1, 0.85,  0.85])\n",
    "\n",
    "hist = df[[\"label\"]].value_counts().plot(ax=ax, kind='bar')\n",
    "\n",
    "ax.set_xlabel('label', fontsize=16)\n",
    "ax.set_ylabel('number of galaxies', fontsize=16)"
   ]
  },
  {
   "cell_type": "code",
   "execution_count": null,
   "metadata": {},
   "outputs": [],
   "source": []
  }
 ],
 "metadata": {
  "kernelspec": {
   "display_name": "Python 3",
   "language": "python",
   "name": "python3"
  },
  "language_info": {
   "codemirror_mode": {
    "name": "ipython",
    "version": 3
   },
   "file_extension": ".py",
   "mimetype": "text/x-python",
   "name": "python",
   "nbconvert_exporter": "python",
   "pygments_lexer": "ipython3",
   "version": "3.8.5"
  }
 },
 "nbformat": 4,
 "nbformat_minor": 4
}
