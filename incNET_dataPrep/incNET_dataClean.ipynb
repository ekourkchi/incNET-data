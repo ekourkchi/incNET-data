{
 "cells": [
  {
   "cell_type": "markdown",
   "metadata": {},
   "source": [
    "# Data Preparation \n",
    "\n",
    "This notebook discuss how we have manually labelled spiral galaxies using an [online GUI](http://edd.ifa.hawaii.edu/inclination/) in a collaborative project. Users of the interface are asked to situate a target galaxy within a lattice of galaxies with established inclinations. In this graphical interface, we use the colorful images provided [SDSS](https://www.sdss.org/) as well as the `g`, `r` and `i` band images generated for our photometry program. These latter are presented in black-and-white after re-scaling by the `asinh` function to differentiate more clearly the internal structures of galaxies. The inclination of standard galaxies were initially measured based on their `I`-band axial ratios."
   ]
  },
  {
   "cell_type": "code",
   "execution_count": 1,
   "metadata": {},
   "outputs": [
    {
     "data": {
      "text/html": [
       "<img src=\"http://edd.ifa.hawaii.edu/inclination/helpics/drag_drop.png\"/>"
      ],
      "text/plain": [
       "<IPython.core.display.Image object>"
      ]
     },
     "execution_count": 1,
     "metadata": {},
     "output_type": "execute_result"
    }
   ],
   "source": [
    "from IPython.display import Image\n",
    "from IPython.core.display import HTML \n",
    "\n",
    "Image(url= \"http://edd.ifa.hawaii.edu/inclination/helpics/drag_drop.png\")"
   ]
  },
  {
   "cell_type": "markdown",
   "metadata": {},
   "source": [
    "Each galaxy is compared with the standard galaxies in two steps. First, the user locates the galaxy among nine standard galaxies sorted by their inclinations ranging between 45 and 90 degrees in increments of `5` degrees. \n",
    "In step two, the same galaxy is compared with nine other standard galaxies whose inclinations are one degree apart and cover the 5 degrees interval found in the first step. At the end, the inclination is calculated by averaging the inclinations of the standard galaxies on the left/right-side of the target galaxy. "
   ]
  },
  {
   "cell_type": "code",
   "execution_count": 2,
   "metadata": {},
   "outputs": [
    {
     "data": {
      "text/html": [
       "<img src=\"http://edd.ifa.hawaii.edu/inclination/helpics/trash.png\"/>"
      ],
      "text/plain": [
       "<IPython.core.display.Image object>"
      ]
     },
     "execution_count": 2,
     "metadata": {},
     "output_type": "execute_result"
    }
   ],
   "source": [
    "Image(url= \"http://edd.ifa.hawaii.edu/inclination/helpics/trash.png\")"
   ]
  },
  {
   "cell_type": "markdown",
   "metadata": {},
   "source": [
    "We take the following precautions to minimize user dependant and independent biases:\n",
    "\n",
    "- We round the resulting inclinations to the next highest or smallest integer values chosen randomly. \n",
    "- At each step, standard galaxies are randomly drawn with an option for users to change them randomly to verify their work or to compare galaxies with similar structures. \n",
    "- To increase the accuracy of the results, we catalog the median of at least **three** different measurements preformed by different users. \n",
    "- Users may **reject** galaxies for various reasons and leave comments with the aim of avoiding dubious cases.\n",
    "\n",
    "The uncertainties on the measured inclinations are estimated based on the statistical scatter in the reported values by different users.\n",
    "\n",
    "A more detailed discussions of these measurements and their uncertainties are presented in these papers: \n",
    "\n",
    "- Global Attenuation in Spiral Galaxies in Optical and Infrared Bands (**Journal ref:** Kourkchi et al.,2019, ApJ, 884, 82, [arXiv:1909.01572](https://arxiv.org/pdf/1909.01572))\n",
    "- Cosmicflows-4: The Catalog of ~10000 Tully-Fisher Distances (**Journal ref:** Kourkchi et al., 2020, ApJ, 902, 145, [arXiv:2009.00733](https://arxiv.org/pdf/2009.00733)) "
   ]
  },
  {
   "cell_type": "markdown",
   "metadata": {},
   "source": [
    "## Data Product\n",
    "\n",
    "[Galaxy Inclination Zoo](http://edd.ifa.hawaii.edu/inclination/) stores all of of the outputs in a `SQL` database. Each time a user sorts a galaxy in the GUI, the database gets updated.\n",
    "\n",
    "We have devided the users of the project into two groups:\n",
    "1. Undergraduate students of the Unviersity of Hawaii at Manoa\n",
    "2. Citizen scientists and astronomy enthusiasts who helps us in this project\n",
    "\n",
    "The output tables of the SQL database have been stored in two tables:\n",
    "- `EDD_incNET_Manoa.20190524.txt` for the UH students\n",
    "- `EDD_incNET_Guest.20190524.txt` for the guest users\n"
   ]
  },
  {
   "cell_type": "code",
   "execution_count": 3,
   "metadata": {},
   "outputs": [],
   "source": [
    "import sys\n",
    "import os\n",
    "import subprocess\n",
    "import glob\n",
    "from math import *\n",
    "import numpy as np\n",
    "from datetime import *\n",
    "from pylab import *\n",
    "import matplotlib as mpl\n",
    "from matplotlib.widgets import Slider, Button, RadioButtons\n",
    "import matplotlib.pyplot as plt\n",
    "from astropy.table import Table, Column \n",
    "from mpl_toolkits.axes_grid1 import make_axes_locatable\n",
    "from optparse import OptionParser\n",
    "from PIL import Image#, ImageTk\n",
    "from subprocess import Popen, PIPE\n",
    "import matplotlib.patches as patches\n",
    "import scipy.misc as scimisc\n",
    "import pandas as pd"
   ]
  },
  {
   "cell_type": "markdown",
   "metadata": {},
   "source": [
    "## Output format\n",
    "\n",
    "- Each user is identified by his/her email address. \n",
    "- `inc` is the mesured inclnation at each instance\n",
    "- `pgcID` is the ID of the sorted target galaxy whose inclination has been evaluated\n",
    "- `pgcID1` and `pgcID2` are the ID of the galaxies that are located in the left and right of the target galaxy by user\n",
    "- `flag` = 0 if galaxy has been accepted, = 1 if user has decided to reject the galaxy\n",
    "- `email` is the user email address\n",
    "- Other columns are self explanatory. They hold some data logs that are produced by user. If a user decide to reject a galaxy for specific reasons, they would be recorded in the relevant columns."
   ]
  },
  {
   "cell_type": "code",
   "execution_count": 4,
   "metadata": {},
   "outputs": [
    {
     "data": {
      "text/html": [
       "<div>\n",
       "<style scoped>\n",
       "    .dataframe tbody tr th:only-of-type {\n",
       "        vertical-align: middle;\n",
       "    }\n",
       "\n",
       "    .dataframe tbody tr th {\n",
       "        vertical-align: top;\n",
       "    }\n",
       "\n",
       "    .dataframe thead th {\n",
       "        text-align: right;\n",
       "    }\n",
       "</style>\n",
       "<table border=\"1\" class=\"dataframe\">\n",
       "  <thead>\n",
       "    <tr style=\"text-align: right;\">\n",
       "      <th></th>\n",
       "      <th>id</th>\n",
       "      <th>pgcID</th>\n",
       "      <th>inc</th>\n",
       "      <th>pgcID1</th>\n",
       "      <th>pgcID2</th>\n",
       "      <th>flag</th>\n",
       "      <th>not_sure</th>\n",
       "      <th>better_image</th>\n",
       "      <th>bad_TF</th>\n",
       "      <th>ambiguous</th>\n",
       "      <th>...</th>\n",
       "      <th>HI</th>\n",
       "      <th>face_on</th>\n",
       "      <th>not_spiral</th>\n",
       "      <th>multiple</th>\n",
       "      <th>note</th>\n",
       "      <th>email</th>\n",
       "      <th>inputTable</th>\n",
       "      <th>checkoutTime</th>\n",
       "      <th>checkinTime</th>\n",
       "      <th>ip</th>\n",
       "    </tr>\n",
       "  </thead>\n",
       "  <tbody>\n",
       "    <tr>\n",
       "      <th>0</th>\n",
       "      <td>12246</td>\n",
       "      <td>99866</td>\n",
       "      <td>76.5</td>\n",
       "      <td>1461</td>\n",
       "      <td>4192</td>\n",
       "      <td>0</td>\n",
       "      <td>0</td>\n",
       "      <td>0</td>\n",
       "      <td>0</td>\n",
       "      <td>0</td>\n",
       "      <td>...</td>\n",
       "      <td>0</td>\n",
       "      <td>0</td>\n",
       "      <td>0</td>\n",
       "      <td>0</td>\n",
       "      <td></td>\n",
       "      <td>dummy</td>\n",
       "      <td>Input_Guest</td>\n",
       "      <td>2019-05-23 02:27:34</td>\n",
       "      <td>2019-05-23 02:28:00</td>\n",
       "      <td>78.239.55.56</td>\n",
       "    </tr>\n",
       "    <tr>\n",
       "      <th>1</th>\n",
       "      <td>12245</td>\n",
       "      <td>51425</td>\n",
       "      <td>74.5</td>\n",
       "      <td>44725</td>\n",
       "      <td>23662</td>\n",
       "      <td>0</td>\n",
       "      <td>0</td>\n",
       "      <td>0</td>\n",
       "      <td>0</td>\n",
       "      <td>0</td>\n",
       "      <td>...</td>\n",
       "      <td>0</td>\n",
       "      <td>0</td>\n",
       "      <td>0</td>\n",
       "      <td>0</td>\n",
       "      <td></td>\n",
       "      <td>dummy</td>\n",
       "      <td>Input_Guest</td>\n",
       "      <td>2019-05-23 02:27:01</td>\n",
       "      <td>2019-05-23 02:27:30</td>\n",
       "      <td>78.239.55.56</td>\n",
       "    </tr>\n",
       "    <tr>\n",
       "      <th>2</th>\n",
       "      <td>12244</td>\n",
       "      <td>1696613</td>\n",
       "      <td>90.0</td>\n",
       "      <td>70708</td>\n",
       "      <td></td>\n",
       "      <td>0</td>\n",
       "      <td>0</td>\n",
       "      <td>0</td>\n",
       "      <td>0</td>\n",
       "      <td>0</td>\n",
       "      <td>...</td>\n",
       "      <td>0</td>\n",
       "      <td>0</td>\n",
       "      <td>0</td>\n",
       "      <td>0</td>\n",
       "      <td></td>\n",
       "      <td>dummy</td>\n",
       "      <td>Input_Guest_test_calib</td>\n",
       "      <td>2019-05-23 02:26:30</td>\n",
       "      <td>2019-05-23 02:26:58</td>\n",
       "      <td>78.239.55.56</td>\n",
       "    </tr>\n",
       "    <tr>\n",
       "      <th>3</th>\n",
       "      <td>12243</td>\n",
       "      <td>2135066</td>\n",
       "      <td>78.5</td>\n",
       "      <td>27451</td>\n",
       "      <td>53318</td>\n",
       "      <td>0</td>\n",
       "      <td>0</td>\n",
       "      <td>0</td>\n",
       "      <td>0</td>\n",
       "      <td>0</td>\n",
       "      <td>...</td>\n",
       "      <td>0</td>\n",
       "      <td>0</td>\n",
       "      <td>0</td>\n",
       "      <td>0</td>\n",
       "      <td>A clear neighbour</td>\n",
       "      <td>dummy</td>\n",
       "      <td>Input_Guest</td>\n",
       "      <td>2019-05-23 02:25:40</td>\n",
       "      <td>2019-05-23 02:26:27</td>\n",
       "      <td>78.239.55.56</td>\n",
       "    </tr>\n",
       "    <tr>\n",
       "      <th>4</th>\n",
       "      <td>12242</td>\n",
       "      <td>44168</td>\n",
       "      <td>64.5</td>\n",
       "      <td>41531</td>\n",
       "      <td>6235</td>\n",
       "      <td>0</td>\n",
       "      <td>0</td>\n",
       "      <td>0</td>\n",
       "      <td>0</td>\n",
       "      <td>0</td>\n",
       "      <td>...</td>\n",
       "      <td>0</td>\n",
       "      <td>0</td>\n",
       "      <td>0</td>\n",
       "      <td>0</td>\n",
       "      <td></td>\n",
       "      <td>dummy</td>\n",
       "      <td>Input_Guest</td>\n",
       "      <td>2019-05-23 02:24:50</td>\n",
       "      <td>2019-05-23 02:25:34</td>\n",
       "      <td>78.239.55.56</td>\n",
       "    </tr>\n",
       "  </tbody>\n",
       "</table>\n",
       "<p>5 rows × 21 columns</p>\n",
       "</div>"
      ],
      "text/plain": [
       "      id    pgcID   inc     pgcID1     pgcID2  flag  not_sure  better_image  \\\n",
       "0  12246    99866  76.5      1461       4192      0         0             0   \n",
       "1  12245    51425  74.5     44725      23662      0         0             0   \n",
       "2  12244  1696613  90.0     70708                 0         0             0   \n",
       "3  12243  2135066  78.5     27451      53318      0         0             0   \n",
       "4  12242    44168  64.5     41531       6235      0         0             0   \n",
       "\n",
       "   bad_TF  ambiguous  ...  HI  face_on  not_spiral  multiple  \\\n",
       "0       0          0  ...   0        0           0         0   \n",
       "1       0          0  ...   0        0           0         0   \n",
       "2       0          0  ...   0        0           0         0   \n",
       "3       0          0  ...   0        0           0         0   \n",
       "4       0          0  ...   0        0           0         0   \n",
       "\n",
       "                               note                             email  \\\n",
       "0                                                              dummy    \n",
       "1                                                              dummy    \n",
       "2                                                              dummy    \n",
       "3                A clear neighbour                             dummy    \n",
       "4                                                              dummy    \n",
       "\n",
       "                         inputTable           checkoutTime  \\\n",
       "0                      Input_Guest    2019-05-23 02:27:34    \n",
       "1                      Input_Guest    2019-05-23 02:27:01    \n",
       "2           Input_Guest_test_calib    2019-05-23 02:26:30    \n",
       "3                      Input_Guest    2019-05-23 02:25:40    \n",
       "4                      Input_Guest    2019-05-23 02:24:50    \n",
       "\n",
       "             checkinTime                     ip  \n",
       "0   2019-05-23 02:28:00            78.239.55.56  \n",
       "1   2019-05-23 02:27:30            78.239.55.56  \n",
       "2   2019-05-23 02:26:58            78.239.55.56  \n",
       "3   2019-05-23 02:26:27            78.239.55.56  \n",
       "4   2019-05-23 02:25:34            78.239.55.56  \n",
       "\n",
       "[5 rows x 21 columns]"
      ]
     },
     "execution_count": 4,
     "metadata": {},
     "output_type": "execute_result"
    }
   ],
   "source": [
    "Manoa = pd.read_csv('EDD_incNET_Manoa.20190524.txt', delimiter='|')\n",
    "Manoa = pd.read_csv('EDD_incNET_Guest.20190524.txt', delimiter='|')\n",
    "\n",
    "Manoa.head()"
   ]
  },
  {
   "cell_type": "code",
   "execution_count": null,
   "metadata": {},
   "outputs": [],
   "source": []
  }
 ],
 "metadata": {
  "kernelspec": {
   "display_name": "Python 3",
   "language": "python",
   "name": "python3"
  },
  "language_info": {
   "codemirror_mode": {
    "name": "ipython",
    "version": 3
   },
   "file_extension": ".py",
   "mimetype": "text/x-python",
   "name": "python",
   "nbconvert_exporter": "python",
   "pygments_lexer": "ipython3",
   "version": "3.8.5"
  }
 },
 "nbformat": 4,
 "nbformat_minor": 4
}
