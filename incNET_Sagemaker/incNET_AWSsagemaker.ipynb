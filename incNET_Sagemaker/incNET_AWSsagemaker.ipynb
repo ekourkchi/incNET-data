{
 "cells": [
  {
   "cell_type": "markdown",
   "id": "20631e0e",
   "metadata": {},
   "source": [
    "# Multiclass Galaxy Image Classification in AWS Sagemaker\n",
    "\n",
    "In this notebook, we try to classify the spiral galaxy images according to their incliantions. \n",
    "\n",
    "Inclinations that are used here for training the model have been originally obtained manually using the [Inclination Zoo online servie](http://edd.ifa.hawaii.edu/inclination/)\n",
    "\n",
    "Here, we adopt a similar methodology to what presented [here](https://sagemaker-examples.readthedocs.io/en/latest/introduction_to_amazon_algorithms/imageclassification_caltech/Image-classification-fulltraining.html#PerformInference)."
   ]
  },
  {
   "cell_type": "markdown",
   "id": "bc16634b",
   "metadata": {},
   "source": [
    "## Permissions and environment variables\n",
    "\n",
    "The model has been constructed using the `AWS Sagemaker` service. \n",
    "\n",
    "- Training and Validation data are available to this notebook through the AWS S3 service in a bucket named `incnet64x64`. \n",
    "- Number of Training Images: `45172`\n",
    "- Number of Validation Images: `12260`\n",
    "- Number of Test Images: `3036`\n",
    "- Image resolutions: `64x64` pixel^2"
   ]
  },
  {
   "cell_type": "markdown",
   "id": "1488cf3e",
   "metadata": {},
   "source": [
    "## Data Structure\n",
    "\n",
    "- `s3://incnet64x64`\n",
    "   - `full-train/`\n",
    "     - train\n",
    "        - `AWS_64x64_train.rec`\n",
    "     - validation\n",
    "        - `AWS_64x64_val.rec`\n",
    "     - test\n",
    "        - `<inc>_pgc<id>_<i>.jpg`   where `<inc>` is the galaxy label (discussed below), `<id>` is the galaxy ID number and `<i>` represents the orientation of the image with 0 being the original image and 1, 2, and 3 are its fillped versions.\n",
    "        \n",
    "Th training and validation data are presented in RecordIO Format: `.rec`. To acquire the required packages to handle split the data and handle the class labels, please refer to [MXNet’s recordio tool](https://mxnet.apache.org/versions/1.8.0/api/faq/recordio).\n",
    "- `python im2rec.py --list --recursive  AWS_64x64_train AWS_64x64_train/`\n",
    "- `python im2rec.py  AWS_64x64_train.lst AWS_64x64_train/`\n",
    " \n"
   ]
  },
  {
   "cell_type": "markdown",
   "id": "d9ddde79",
   "metadata": {},
   "source": [
    "## Labels\n",
    "\n",
    "Labels are inclinations of spirals galaxies in our sample and measure the spatial orientation of a galaxy relative to the line of sight of an observer. Face-on spirals are assigned to have inclination of zero and the edge-on spirals have 90 degrees of incliantion. \n",
    "\n",
    "Because of the nature of our research, galaxies are selected to deviated more than 45 degrees from face-on. However during the manual process of measuring the inclinations on the [Galaxy Inlclination Zoo](http://edd.ifa.hawaii.edu/inclination/), some galaxies have been rejected due to the poor data quality or bein too face-on. The initial sample selesction has been carried out using the axis ratio of the galaxy image which is not an accurate proxy for the spirals inclinations.\n",
    "\n",
    "- In this project, if a galaxy is labeled as face-on, we denote it with letter **F**.\n",
    "\n",
    "- If a galaxy has been rejected by users, we denote it with letter **J**. All other galaxies are labelled with their measured inclinations. "
   ]
  },
  {
   "cell_type": "code",
   "execution_count": 1,
   "id": "1542ba8a",
   "metadata": {},
   "outputs": [
    {
     "name": "stderr",
     "output_type": "stream",
     "text": [
      "The method get_image_uri has been renamed in sagemaker>=2.\n",
      "See: https://sagemaker.readthedocs.io/en/stable/v2.html for details.\n",
      "Defaulting to the only supported framework/algorithm version: 1. Ignoring framework/algorithm version: 1.\n"
     ]
    },
    {
     "name": "stdout",
     "output_type": "stream",
     "text": [
      "CPU times: user 759 ms, sys: 103 ms, total: 863 ms\n",
      "Wall time: 768 ms\n"
     ]
    }
   ],
   "source": [
    "%%time\n",
    "\n",
    "import boto3\n",
    "import re\n",
    "import sagemaker\n",
    "from sagemaker import get_execution_role\n",
    "from sagemaker.amazon.amazon_estimator import get_image_uri\n",
    "\n",
    "role = get_execution_role()\n",
    "\n",
    "\n",
    "bucket = \"incnet64x64\"\n",
    "\n",
    "training_image = get_image_uri(boto3.Session().region_name, \"image-classification\")\n",
    "\n",
    "s3_train_key = \"full-train/train\"\n",
    "s3_validation_key = \"full-train/validation\"\n",
    "s3_train = \"s3://{}/{}/\".format(bucket, s3_train_key)\n",
    "s3_validation = \"s3://{}/{}/\".format(bucket, s3_validation_key)"
   ]
  },
  {
   "cell_type": "markdown",
   "id": "7c268c4f",
   "metadata": {},
   "source": [
    "## Training parameters\n",
    "\n",
    "\n",
    "- **num_layers:** The number of layers (depth) for the network. We use `18` in this notebook.\n",
    "\n",
    "- **num_training_samples:** This is the total number of training samples. It is set to `45172` for caltech dataset with the current split\n",
    "\n",
    "- **epochs:** Number of training epochs\n",
    "\n",
    "- **learning_rate:** Learning rate for training\n",
    "\n",
    "- **mini_batch_size:** The number of training samples used for each mini batch.\n"
   ]
  },
  {
   "cell_type": "code",
   "execution_count": 2,
   "id": "9713dc5b",
   "metadata": {},
   "outputs": [],
   "source": [
    "# The algorithm supports multiple network depth (number of layers). They are 18, 34, 50, 101, 152 and 200\n",
    "# For this training, we will use 18 layers\n",
    "num_layers = \"18\"\n",
    "# we need to specify the input image shape for the training data\n",
    "image_shape = \"3,64,64\"\n",
    "# we also need to specify the number of training samples in the training set\n",
    "num_training_samples = \"45172\"\n",
    "# specify the number of output classes\n",
    "num_classes = \"47\"\n",
    "# batch size for training\n",
    "mini_batch_size = \"64\"\n",
    "# number of epochs\n",
    "epochs = \"2\"\n",
    "# learning rate\n",
    "learning_rate = \"0.01\""
   ]
  },
  {
   "cell_type": "markdown",
   "id": "97bb00db",
   "metadata": {},
   "source": [
    "## Training\n",
    "\n",
    "Run the training using Amazon sagemaker CreateTrainingJob API"
   ]
  },
  {
   "cell_type": "code",
   "execution_count": 3,
   "id": "592d077f",
   "metadata": {},
   "outputs": [
    {
     "name": "stdout",
     "output_type": "stream",
     "text": [
      "Training job name: DEMO-imageclassification--2021-07-28-08-13-42\n",
      "\n",
      "Input Data Location: {'S3DataType': 'S3Prefix', 'S3Uri': 's3://incnet64x64/full-train/train/', 'S3DataDistributionType': 'FullyReplicated'}\n",
      "CPU times: user 59.1 ms, sys: 3.88 ms, total: 63 ms\n",
      "Wall time: 68.7 ms\n"
     ]
    }
   ],
   "source": [
    "%%time\n",
    "import time\n",
    "import boto3\n",
    "from time import gmtime, strftime\n",
    "\n",
    "\n",
    "s3 = boto3.client(\"s3\")\n",
    "# create unique job name\n",
    "job_name_prefix = \"DEMO-imageclassification\"\n",
    "job_name = job_name_prefix + \"-\" + time.strftime(\"-%Y-%m-%d-%H-%M-%S\", time.gmtime())\n",
    "training_params = {\n",
    "    # specify the training image\n",
    "    \"AlgorithmSpecification\": {\"TrainingImage\": training_image, \"TrainingInputMode\": \"File\"},\n",
    "    \"RoleArn\": role,\n",
    "    \"OutputDataConfig\": {\"S3OutputPath\": \"s3://{}/{}/output\".format(bucket, job_name_prefix)},\n",
    "    \"ResourceConfig\": {\"InstanceCount\": 1, \"InstanceType\": \"ml.p2.xlarge\", \"VolumeSizeInGB\": 50},\n",
    "    \"TrainingJobName\": job_name,\n",
    "    \"HyperParameters\": {\n",
    "        \"image_shape\": image_shape,\n",
    "        \"num_layers\": str(num_layers),\n",
    "        \"num_training_samples\": str(num_training_samples),\n",
    "        \"num_classes\": str(num_classes),\n",
    "        \"mini_batch_size\": str(mini_batch_size),\n",
    "        \"epochs\": str(epochs),\n",
    "        \"learning_rate\": str(learning_rate),\n",
    "    },\n",
    "    \"StoppingCondition\": {\"MaxRuntimeInSeconds\": 360000},\n",
    "    # Training data should be inside a subdirectory called \"train\"\n",
    "    # Validation data should be inside a subdirectory called \"validation\"\n",
    "    # The algorithm currently only supports fullyreplicated model (where data is copied onto each machine)\n",
    "    \"InputDataConfig\": [\n",
    "        {\n",
    "            \"ChannelName\": \"train\",\n",
    "            \"DataSource\": {\n",
    "                \"S3DataSource\": {\n",
    "                    \"S3DataType\": \"S3Prefix\",\n",
    "                    \"S3Uri\": s3_train,\n",
    "                    \"S3DataDistributionType\": \"FullyReplicated\",\n",
    "                }\n",
    "            },\n",
    "            \"ContentType\": \"application/x-recordio\",\n",
    "            \"CompressionType\": \"None\",\n",
    "        },\n",
    "        {\n",
    "            \"ChannelName\": \"validation\",\n",
    "            \"DataSource\": {\n",
    "                \"S3DataSource\": {\n",
    "                    \"S3DataType\": \"S3Prefix\",\n",
    "                    \"S3Uri\": s3_validation,\n",
    "                    \"S3DataDistributionType\": \"FullyReplicated\",\n",
    "                }\n",
    "            },\n",
    "            \"ContentType\": \"application/x-recordio\",\n",
    "            \"CompressionType\": \"None\",\n",
    "        },\n",
    "    ],\n",
    "}\n",
    "print(\"Training job name: {}\".format(job_name))\n",
    "print(\n",
    "    \"\\nInput Data Location: {}\".format(\n",
    "        training_params[\"InputDataConfig\"][0][\"DataSource\"][\"S3DataSource\"]\n",
    "    )\n",
    ")"
   ]
  },
  {
   "cell_type": "code",
   "execution_count": 4,
   "id": "1e2a4d84",
   "metadata": {},
   "outputs": [
    {
     "name": "stdout",
     "output_type": "stream",
     "text": [
      "Training job current status: InProgress\n",
      "Training job ended with status: Completed\n",
      "CPU times: user 117 ms, sys: 14.7 ms, total: 132 ms\n",
      "Wall time: 8min\n"
     ]
    }
   ],
   "source": [
    "%%time\n",
    "\n",
    "# create the Amazon SageMaker training job\n",
    "sagemaker = boto3.client(service_name=\"sagemaker\")\n",
    "sagemaker.create_training_job(**training_params)\n",
    "\n",
    "# confirm that the training job has started\n",
    "status = sagemaker.describe_training_job(TrainingJobName=job_name)[\"TrainingJobStatus\"]\n",
    "print(\"Training job current status: {}\".format(status))\n",
    "\n",
    "try:\n",
    "    # wait for the job to finish and report the ending status\n",
    "    sagemaker.get_waiter(\"training_job_completed_or_stopped\").wait(TrainingJobName=job_name)\n",
    "    training_info = sagemaker.describe_training_job(TrainingJobName=job_name)\n",
    "    status = training_info[\"TrainingJobStatus\"]\n",
    "    print(\"Training job ended with status: \" + status)\n",
    "except:\n",
    "    print(\"Training failed to start\")\n",
    "    # if exception is raised, that means it has failed\n",
    "    message = sagemaker.describe_training_job(TrainingJobName=job_name)[\"FailureReason\"]\n",
    "    print(\"Training failed with the following error: {}\".format(message))\n",
    "\n"
   ]
  },
  {
   "cell_type": "code",
   "execution_count": 5,
   "id": "e81fd3ae",
   "metadata": {},
   "outputs": [
    {
     "name": "stdout",
     "output_type": "stream",
     "text": [
      "Training job ended with status: Completed\n"
     ]
    }
   ],
   "source": [
    "training_info = sagemaker.describe_training_job(TrainingJobName=job_name)\n",
    "status = training_info[\"TrainingJobStatus\"]\n",
    "print(\"Training job ended with status: \" + status)"
   ]
  },
  {
   "cell_type": "markdown",
   "id": "8040195e",
   "metadata": {},
   "source": [
    "## Deploying the Model\n",
    "\n",
    "A trained model does nothing on its own. We now want to use the model to perform inference. For this example we use galaxy images that we set apart for testing. These images have not been used in any of traing and/or validation process. Thus, the model should not have been biased memory about any of the images in the test sample."
   ]
  },
  {
   "cell_type": "code",
   "execution_count": 6,
   "id": "1929fa06",
   "metadata": {},
   "outputs": [
    {
     "name": "stderr",
     "output_type": "stream",
     "text": [
      "The method get_image_uri has been renamed in sagemaker>=2.\n",
      "See: https://sagemaker.readthedocs.io/en/stable/v2.html for details.\n",
      "Defaulting to the only supported framework/algorithm version: 1. Ignoring framework/algorithm version: 1.\n"
     ]
    },
    {
     "name": "stdout",
     "output_type": "stream",
     "text": [
      "galaxy-inclination-model-2021-07-28-08-21-43\n",
      "s3://incnet64x64/DEMO-imageclassification/output/DEMO-imageclassification--2021-07-28-08-13-42/output/model.tar.gz\n",
      "arn:aws:sagemaker:us-east-2:902996942887:model/galaxy-inclination-model-2021-07-28-08-21-43\n",
      "CPU times: user 97.9 ms, sys: 8.15 ms, total: 106 ms\n",
      "Wall time: 487 ms\n"
     ]
    }
   ],
   "source": [
    "%%time\n",
    "import boto3\n",
    "from time import gmtime, strftime\n",
    "\n",
    "sage = boto3.Session().client(service_name=\"sagemaker\")\n",
    "\n",
    "model_name = \"galaxy-inclination-model\" + time.strftime(\n",
    "    \"-%Y-%m-%d-%H-%M-%S\", time.gmtime()\n",
    ")\n",
    "print(model_name)\n",
    "info = sage.describe_training_job(TrainingJobName=job_name)\n",
    "model_data = info[\"ModelArtifacts\"][\"S3ModelArtifacts\"]\n",
    "print(model_data)\n",
    "\n",
    "hosting_image = get_image_uri(boto3.Session().region_name, \"image-classification\")\n",
    "\n",
    "primary_container = {\n",
    "    \"Image\": hosting_image,\n",
    "    \"ModelDataUrl\": model_data,\n",
    "}\n",
    "\n",
    "create_model_response = sage.create_model(\n",
    "    ModelName=model_name, ExecutionRoleArn=role, PrimaryContainer=primary_container\n",
    ")\n",
    "\n",
    "print(create_model_response[\"ModelArn\"])"
   ]
  },
  {
   "cell_type": "code",
   "execution_count": 7,
   "id": "0c9f95de",
   "metadata": {},
   "outputs": [],
   "source": [
    "batch_input = \"s3://{}/full-train/test/\".format(bucket)"
   ]
  },
  {
   "cell_type": "code",
   "execution_count": 8,
   "id": "ec134ea7",
   "metadata": {},
   "outputs": [
    {
     "name": "stdout",
     "output_type": "stream",
     "text": [
      "Transform job name: galaxy-classification-model-2021-07-28-08-21-43\n",
      "\n",
      "Input Data Location: s3://incnet64x64/full-train/validation/\n"
     ]
    }
   ],
   "source": [
    "timestamp = time.strftime(\"-%Y-%m-%d-%H-%M-%S\", time.gmtime())\n",
    "batch_job_name = \"galaxy-classification-model\" + timestamp\n",
    "request = {\n",
    "    \"TransformJobName\": batch_job_name,\n",
    "    \"ModelName\": model_name,\n",
    "    \"MaxConcurrentTransforms\": 16,\n",
    "    \"MaxPayloadInMB\": 6,\n",
    "    \"BatchStrategy\": \"SingleRecord\",\n",
    "    \"TransformOutput\": {\"S3OutputPath\": \"s3://{}/{}/output\".format(bucket, batch_job_name)},\n",
    "    \"TransformInput\": {\n",
    "        \"DataSource\": {\"S3DataSource\": {\"S3DataType\": \"S3Prefix\", \"S3Uri\": batch_input}},\n",
    "        \"ContentType\": \"application/x-image\",\n",
    "        \"SplitType\": \"None\",\n",
    "        \"CompressionType\": \"None\",\n",
    "    },\n",
    "    \"TransformResources\": {\"InstanceType\": \"ml.p2.xlarge\", \"InstanceCount\": 1},\n",
    "}\n",
    "\n",
    "print(\"Transform job name: {}\".format(batch_job_name))\n",
    "print(\"\\nInput Data Location: {}\".format(s3_validation))"
   ]
  },
  {
   "cell_type": "code",
   "execution_count": 9,
   "id": "9ad3010e",
   "metadata": {},
   "outputs": [
    {
     "name": "stdout",
     "output_type": "stream",
     "text": [
      "Created Transform job with name:  galaxy-classification-model-2021-07-28-08-21-43\n",
      "Transform job ended with status: Completed\n"
     ]
    }
   ],
   "source": [
    "sagemaker = boto3.client(\"sagemaker\")\n",
    "sagemaker.create_transform_job(**request)\n",
    "\n",
    "print(\"Created Transform job with name: \", batch_job_name)\n",
    "\n",
    "while True:\n",
    "    response = sagemaker.describe_transform_job(TransformJobName=batch_job_name)\n",
    "    status = response[\"TransformJobStatus\"]\n",
    "    if status == \"Completed\":\n",
    "        print(\"Transform job ended with status: \" + status)\n",
    "        break\n",
    "    if status == \"Failed\":\n",
    "        message = response[\"FailureReason\"]\n",
    "        print(\"Transform failed with the following error: {}\".format(message))\n",
    "        raise Exception(\"Transform job failed\")\n",
    "    time.sleep(30)"
   ]
  },
  {
   "cell_type": "markdown",
   "id": "8de43d1c",
   "metadata": {},
   "source": [
    "After the job completes, let’s inspect the prediction results. The accuracy may not be quite good because we set the epochs to 2 during training which may not be sufficient to train a good model."
   ]
  },
  {
   "cell_type": "code",
   "execution_count": 10,
   "id": "84bddd47",
   "metadata": {},
   "outputs": [],
   "source": [
    "def indexTOinc(index):\n",
    "    if index == 46:\n",
    "        return 'F'   # face-on spirals\n",
    "    elif index == 47:\n",
    "        return 'J'   # rejected spirals\n",
    "    else:\n",
    "        return str(index+45)"
   ]
  },
  {
   "cell_type": "code",
   "execution_count": 11,
   "id": "08edfd05",
   "metadata": {
    "scrolled": false
   },
   "outputs": [
    {
     "name": "stdout",
     "output_type": "stream",
     "text": [
      "ID:  pgc27005 inclination [deg]:  46 prediction:  ('F', 0.5829246640205383)\n",
      "ID:  pgc27005 inclination [deg]:  46 prediction:  ('53', 0.14041416347026825)\n",
      "ID:  pgc27005 inclination [deg]:  46 prediction:  ('F', 0.7746235728263855)\n",
      "ID:  pgc27005 inclination [deg]:  46 prediction:  ('F', 0.1434224247932434)\n",
      "ID:  pgc69347 inclination [deg]:  46 prediction:  ('74', 0.9620131254196167)\n",
      "ID:  pgc69347 inclination [deg]:  46 prediction:  ('74', 0.530534565448761)\n",
      "ID:  pgc69347 inclination [deg]:  46 prediction:  ('74', 0.9562180042266846)\n",
      "ID:  pgc69347 inclination [deg]:  46 prediction:  ('74', 0.8908205628395081)\n",
      "ID:  pgc1154069 inclination [deg]:  48 prediction:  ('53', 0.07607626914978027)\n",
      "ID:  pgc1154069 inclination [deg]:  48 prediction:  ('53', 0.08431600779294968)\n"
     ]
    }
   ],
   "source": [
    "from urllib.parse import urlparse\n",
    "import json\n",
    "import numpy as np\n",
    "\n",
    "s3_client = boto3.client(\"s3\")\n",
    "\n",
    "def list_objects(s3_client, bucket, prefix):\n",
    "    \n",
    "    paginator = s3.get_paginator('list_objects')\n",
    "    pages = paginator.paginate(Bucket=bucket, Prefix=prefix)\n",
    "    \n",
    "    objects = []\n",
    "    for page in pages:\n",
    "        objects += [content[\"Key\"] for content in page['Contents']]\n",
    "    \n",
    "#     response = s3_client.list_objects(Bucket=bucket, Prefix=prefix)  # returns only 1,000 items\n",
    "#     objects = [content[\"Key\"] for content in response[\"Contents\"]]\n",
    "    return objects\n",
    "\n",
    "\n",
    "def get_label(s3_client, bucket, prefix):\n",
    "    filename = prefix.split(\"/\")[-1]\n",
    "    s3_client.download_file(bucket, prefix, filename)\n",
    "    with open(filename) as f:\n",
    "        data = json.load(f)\n",
    "        index = np.argmax(data[\"prediction\"])\n",
    "        probability = data[\"prediction\"][index]\n",
    "    # print(\"Result: label - \" + indexTOinc(index) + \", probability - \" + str(probability))\n",
    "    return indexTOinc(index), probability\n",
    "\n",
    "\n",
    "# inputs = list_objects(s3_client, bucket, urlparse(batch_input).path.lstrip(\"/\"))\n",
    "# print(\"Sample inputs: \" + str(inputs[:2]))\n",
    "\n",
    "outputs = list_objects(s3_client, bucket, batch_job_name + \"/output\")\n",
    "# print(\"Sample output: \" + str(outputs[:2]))\n",
    "\n",
    "# Check prediction result of the first 10 images\n",
    "measurments = []\n",
    "predictions = []\n",
    "for i, prefix in enumerate(outputs):\n",
    "    \n",
    "    id = prefix.split('_')[-2]\n",
    "    pl = prefix.split('_')[-3].split('/')[-1]\n",
    "    prediction = get_label(s3_client, bucket, prefix)\n",
    "    \n",
    "    if i<10:\n",
    "        print(\"ID: \", id, \"inclination [deg]: \", pl, 'prediction: ', prediction)\n",
    "    \n",
    "    measurments.append(pl)\n",
    "    predictions.append(prediction[0])"
   ]
  },
  {
   "cell_type": "code",
   "execution_count": 12,
   "id": "d837fd93",
   "metadata": {},
   "outputs": [
    {
     "data": {
      "text/plain": [
       "3035"
      ]
     },
     "execution_count": 12,
     "metadata": {},
     "output_type": "execute_result"
    }
   ],
   "source": [
    "measurments = np.asarray(measurments)\n",
    "predictions = np.asarray(predictions)\n",
    "\n",
    "len(predictions)"
   ]
  },
  {
   "cell_type": "markdown",
   "id": "e13b0748",
   "metadata": {},
   "source": [
    "## Model Evaluation\n",
    "\n",
    "Here, we comapre the predicted labels with the true labels for galaxies in our test sample."
   ]
  },
  {
   "cell_type": "code",
   "execution_count": 13,
   "id": "da6c995f",
   "metadata": {},
   "outputs": [
    {
     "data": {
      "text/plain": [
       "Text(0, 0.5, '$i_p$  (predicted inclination)')"
      ]
     },
     "execution_count": 13,
     "metadata": {},
     "output_type": "execute_result"
    },
    {
     "data": {
      "image/png": "[encoded data removed]",
      "text/plain": [
       "<Figure size 360x360 with 1 Axes>"
      ]
     },
     "metadata": {
      "needs_background": "light"
     },
     "output_type": "display_data"
    }
   ],
   "source": [
    "import matplotlib.pyplot as plt\n",
    "fig, ax = plt.subplots(nrows=1, ncols=1, figsize=(5,5)) \n",
    "\n",
    "\n",
    "for i in range(len(measurments)):\n",
    "    \n",
    "    m = measurments[i]\n",
    "    p = predictions[i]\n",
    "    \n",
    "    JF = ['J', 'F']\n",
    "    \n",
    "    if not m in JF and not p in JF:\n",
    "        ax.plot(int(m), int(p), '.')\n",
    "    \n",
    "\n",
    "ax.set_xlabel(r'$i_m$'+'  (measured inclination)', fontsize=14)\n",
    "ax.set_ylabel(r'$i_p$'+'  (predicted inclination)', fontsize=14)"
   ]
  },
  {
   "cell_type": "code",
   "execution_count": 14,
   "id": "ec85e624",
   "metadata": {},
   "outputs": [
    {
     "name": "stdout",
     "output_type": "stream",
     "text": [
      "Accuracy:  1.0040998881848677\n",
      "True positive rate (Recall):  0.7613636363636364\n",
      "False positive rate:  0.09578829668281774\n"
     ]
    }
   ],
   "source": [
    "## face-on galaxies\n",
    "\n",
    "N = len(measurments)\n",
    "TP = sum((measurments == 'F') & (predictions =='F'))\n",
    "P = sum((measurments == 'F'))\n",
    "TN = sum((measurments != 'F') & (predictions !='F'))\n",
    "N = sum((measurments != 'F'))\n",
    "FP = sum((measurments != 'F') & (predictions =='F'))\n",
    "\n",
    "\n",
    "Accuracy = (TP+TN)/N/1.\n",
    "Recall = TP/P/1. \n",
    "False_positive_rate = FP/N/1.\n",
    "\n",
    "print(\"Accuracy: \", Accuracy)\n",
    "print(\"True positive rate (Recall): \", Recall)\n",
    "print(\"False positive rate: \", False_positive_rate)"
   ]
  },
  {
   "cell_type": "code",
   "execution_count": 15,
   "id": "11b81de4",
   "metadata": {},
   "outputs": [
    {
     "name": "stdout",
     "output_type": "stream",
     "text": [
      "Accuracy:  1.0\n",
      "True positive rate (Recall):  0.0\n",
      "False positive rate:  0.0\n"
     ]
    }
   ],
   "source": [
    "## rejected galaxies\n",
    "\n",
    "N = len(measurments)\n",
    "TP = sum((measurments == 'J') & (predictions =='J'))\n",
    "P = sum((measurments == 'J'))\n",
    "TN = sum((measurments != 'J') & (predictions !='J'))\n",
    "N = sum((measurments != 'J'))\n",
    "FP = sum((measurments != 'J') & (predictions =='J'))\n",
    "\n",
    "\n",
    "Accuracy = (TP+TN)/N/1.\n",
    "Recall = TP/P/1. \n",
    "False_positive_rate = FP/N/1.\n",
    "\n",
    "print(\"Accuracy: \", Accuracy)\n",
    "print(\"True positive rate (Recall): \", Recall)\n",
    "print(\"False positive rate: \", False_positive_rate)"
   ]
  },
  {
   "cell_type": "markdown",
   "id": "33809297",
   "metadata": {},
   "source": [
    "# Create Endpoint"
   ]
  },
  {
   "cell_type": "code",
   "execution_count": 16,
   "id": "651f92eb",
   "metadata": {},
   "outputs": [
    {
     "name": "stdout",
     "output_type": "stream",
     "text": [
      "Endpoint configuration name: DEMO-imageclassification-epc--2021-07-28-08-31-06\n",
      "Endpoint configuration arn:  arn:aws:sagemaker:us-east-2:902996942887:endpoint-config/demo-imageclassification-epc--2021-07-28-08-31-06\n"
     ]
    }
   ],
   "source": [
    "from time import gmtime, strftime\n",
    "\n",
    "timestamp = time.strftime(\"-%Y-%m-%d-%H-%M-%S\", time.gmtime())\n",
    "endpoint_config_name = job_name_prefix + \"-epc-\" + timestamp\n",
    "endpoint_config_response = sage.create_endpoint_config(\n",
    "    EndpointConfigName=endpoint_config_name,\n",
    "    ProductionVariants=[\n",
    "        {\n",
    "            \"InstanceType\": \"ml.m4.xlarge\",\n",
    "            \"InitialInstanceCount\": 1,\n",
    "            \"ModelName\": model_name,\n",
    "            \"VariantName\": \"AllTraffic\",\n",
    "        }\n",
    "    ],\n",
    ")\n",
    "\n",
    "print(\"Endpoint configuration name: {}\".format(endpoint_config_name))\n",
    "print(\"Endpoint configuration arn:  {}\".format(endpoint_config_response[\"EndpointConfigArn\"]))\n"
   ]
  },
  {
   "cell_type": "code",
   "execution_count": 17,
   "id": "33132ad1",
   "metadata": {},
   "outputs": [
    {
     "name": "stdout",
     "output_type": "stream",
     "text": [
      "Endpoint name: DEMO-imageclassification-ep--2021-07-28-08-31-06\n",
      "EndpointArn = arn:aws:sagemaker:us-east-2:902996942887:endpoint/demo-imageclassification-ep--2021-07-28-08-31-06\n",
      "CPU times: user 14.8 ms, sys: 148 µs, total: 14.9 ms\n",
      "Wall time: 176 ms\n"
     ]
    }
   ],
   "source": [
    "%%time\n",
    "import time\n",
    "\n",
    "timestamp = time.strftime(\"-%Y-%m-%d-%H-%M-%S\", time.gmtime())\n",
    "endpoint_name = job_name_prefix + \"-ep-\" + timestamp\n",
    "print(\"Endpoint name: {}\".format(endpoint_name))\n",
    "\n",
    "endpoint_params = {\n",
    "    \"EndpointName\": endpoint_name,\n",
    "    \"EndpointConfigName\": endpoint_config_name,\n",
    "}\n",
    "endpoint_response = sagemaker.create_endpoint(**endpoint_params)\n",
    "print(\"EndpointArn = {}\".format(endpoint_response[\"EndpointArn\"]))"
   ]
  },
  {
   "cell_type": "code",
   "execution_count": 18,
   "id": "bdaae130",
   "metadata": {},
   "outputs": [
    {
     "name": "stdout",
     "output_type": "stream",
     "text": [
      "EndpointStatus = Creating\n",
      "Endpoint creation ended with EndpointStatus = InService\n"
     ]
    }
   ],
   "source": [
    "# get the status of the endpoint\n",
    "response = sagemaker.describe_endpoint(EndpointName=endpoint_name)\n",
    "status = response[\"EndpointStatus\"]\n",
    "print(\"EndpointStatus = {}\".format(status))\n",
    "\n",
    "\n",
    "# wait until the status has changed\n",
    "sagemaker.get_waiter(\"endpoint_in_service\").wait(EndpointName=endpoint_name)\n",
    "\n",
    "\n",
    "# print the status of the endpoint\n",
    "endpoint_response = sagemaker.describe_endpoint(EndpointName=endpoint_name)\n",
    "status = endpoint_response[\"EndpointStatus\"]\n",
    "print(\"Endpoint creation ended with EndpointStatus = {}\".format(status))\n",
    "\n",
    "if status != \"InService\":\n",
    "    raise Exception(\"Endpoint creation failed.\")"
   ]
  },
  {
   "cell_type": "markdown",
   "id": "10464ba1",
   "metadata": {},
   "source": [
    "## Perform Inference\n",
    "\n",
    "Finally, the customer can now validate the model for use. They can obtain the endpoint from the client library using the result from previous operations, and generate classifications from the trained model using that endpoint."
   ]
  },
  {
   "cell_type": "code",
   "execution_count": 19,
   "id": "ec2d4730",
   "metadata": {},
   "outputs": [],
   "source": [
    "import boto3\n",
    "\n",
    "runtime = boto3.Session().client(service_name=\"runtime.sagemaker\")"
   ]
  },
  {
   "cell_type": "code",
   "execution_count": 20,
   "id": "bb8e90b6",
   "metadata": {},
   "outputs": [],
   "source": [
    "import json\n",
    "import numpy as np\n",
    "from PIL import Image\n",
    "import matplotlib.pyplot as plt\n",
    "\n",
    "def predictor(file_name):\n",
    "    \n",
    "    with open(file_name, \"rb\") as f:\n",
    "        payload = f.read()\n",
    "        payload = bytearray(payload)\n",
    "    response = runtime.invoke_endpoint(\n",
    "        EndpointName=endpoint_name, ContentType=\"application/x-image\", Body=payload\n",
    "    )\n",
    "    result = response[\"Body\"].read()\n",
    "    # result will be in json format and convert it to ndarray\n",
    "    result = json.loads(result)\n",
    "    # the result will output the probabilities for all classes\n",
    "    # find the class with maximum probability and print the class index\n",
    "    index = np.argmax(result)    \n",
    "    \n",
    "    # displaying image\n",
    "    img = Image.open(file_name)\n",
    "    plt.imshow(img)\n",
    "    \n",
    "    print(\"Prediction: label - \" + indexTOinc(index) + \", probability - \" + str(result[index]))"
   ]
  },
  {
   "cell_type": "markdown",
   "id": "8248becd",
   "metadata": {},
   "source": [
    "### Evaluation\n",
    "\n",
    "Evaluate the image through the network for inteference. "
   ]
  },
  {
   "cell_type": "code",
   "execution_count": 21,
   "id": "8e29624d",
   "metadata": {},
   "outputs": [
    {
     "name": "stdout",
     "output_type": "stream",
     "text": [
      "Prediction: label - 88, probability - 0.1647806018590927\n"
     ]
    },
    {
     "data": {
      "image/png": "[encoded data removed]",
      "text/plain": [
       "<Figure size 432x288 with 1 Axes>"
      ]
     },
     "metadata": {
      "needs_background": "light"
     },
     "output_type": "display_data"
    }
   ],
   "source": [
    "predictor(\"./test/87_pgc1280225_3.jpg\")  # measured inclination is 87 deg"
   ]
  },
  {
   "cell_type": "code",
   "execution_count": 22,
   "id": "8a18edbc",
   "metadata": {},
   "outputs": [
    {
     "name": "stdout",
     "output_type": "stream",
     "text": [
      "Prediction: label - 53, probability - 0.13258586823940277\n"
     ]
    },
    {
     "data": {
      "image/png": "[encoded data removed]",
      "text/plain": [
       "<Figure size 432x288 with 1 Axes>"
      ]
     },
     "metadata": {
      "needs_background": "light"
     },
     "output_type": "display_data"
    }
   ],
   "source": [
    "predictor(\"./test/50_pgc67934_2.jpg\")  # measured inclination is 50 deg"
   ]
  },
  {
   "cell_type": "code",
   "execution_count": 23,
   "id": "6ec33c03",
   "metadata": {},
   "outputs": [
    {
     "name": "stdout",
     "output_type": "stream",
     "text": [
      "Prediction: label - 64, probability - 0.07744613289833069\n"
     ]
    },
    {
     "data": {
      "image/png": "[encoded data removed]",
      "text/plain": [
       "<Figure size 432x288 with 1 Axes>"
      ]
     },
     "metadata": {
      "needs_background": "light"
     },
     "output_type": "display_data"
    }
   ],
   "source": [
    "predictor(\"./test/65_pgc1653662_0.jpg\")  # measured inclination is 65 deg"
   ]
  },
  {
   "cell_type": "code",
   "execution_count": 24,
   "id": "31bbca56",
   "metadata": {},
   "outputs": [
    {
     "name": "stdout",
     "output_type": "stream",
     "text": [
      "Prediction: label - F, probability - 0.9283777475357056\n"
     ]
    },
    {
     "data": {
      "image/png": "[encoded data removed]",
      "text/plain": [
       "<Figure size 432x288 with 1 Axes>"
      ]
     },
     "metadata": {
      "needs_background": "light"
     },
     "output_type": "display_data"
    }
   ],
   "source": [
    "predictor(\"./test/F_pgc5807599_2.jpg\")  # Face-on galaxy"
   ]
  },
  {
   "cell_type": "code",
   "execution_count": 25,
   "id": "a522bd74",
   "metadata": {},
   "outputs": [
    {
     "name": "stdout",
     "output_type": "stream",
     "text": [
      "Prediction: label - 74, probability - 0.9894269704818726\n"
     ]
    },
    {
     "data": {
      "image/png": "[encoded data removed]",
      "text/plain": [
       "<Figure size 432x288 with 1 Axes>"
      ]
     },
     "metadata": {
      "needs_background": "light"
     },
     "output_type": "display_data"
    }
   ],
   "source": [
    "predictor(\"./test/J_pgc4339082_0.jpg\")  # Rejected galaxy"
   ]
  },
  {
   "cell_type": "markdown",
   "id": "aac6dd75",
   "metadata": {},
   "source": [
    "## Clean up\n",
    "\n",
    "When we’re done with the endpoint, we can just delete it and the backing instances will be released."
   ]
  },
  {
   "cell_type": "code",
   "execution_count": 26,
   "id": "a55dd328",
   "metadata": {},
   "outputs": [
    {
     "data": {
      "text/plain": [
       "{'ResponseMetadata': {'RequestId': '595a5437-7d0d-4758-b9dd-d77c143fcf1f',\n",
       "  'HTTPStatusCode': 200,\n",
       "  'HTTPHeaders': {'x-amzn-requestid': '595a5437-7d0d-4758-b9dd-d77c143fcf1f',\n",
       "   'content-type': 'application/x-amz-json-1.1',\n",
       "   'content-length': '0',\n",
       "   'date': 'Wed, 28 Jul 2021 08:38:39 GMT'},\n",
       "  'RetryAttempts': 0}}"
      ]
     },
     "execution_count": 26,
     "metadata": {},
     "output_type": "execute_result"
    }
   ],
   "source": [
    "sage.delete_endpoint(EndpointName=endpoint_name)"
   ]
  }
 ],
 "metadata": {
  "kernelspec": {
   "display_name": "conda_python3",
   "language": "python",
   "name": "conda_python3"
  },
  "language_info": {
   "codemirror_mode": {
    "name": "ipython",
    "version": 3
   },
   "file_extension": ".py",
   "mimetype": "text/x-python",
   "name": "python",
   "nbconvert_exporter": "python",
   "pygments_lexer": "ipython3",
   "version": "3.6.13"
  }
 },
 "nbformat": 4,
 "nbformat_minor": 5
}
